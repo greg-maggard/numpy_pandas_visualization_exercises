{
 "cells": [
  {
   "cell_type": "code",
   "execution_count": 1,
   "id": "bbed458f",
   "metadata": {},
   "outputs": [],
   "source": [
    "#import pyplot module as alias plt\n",
    "import matplotlib.pyplot as plt  \n",
    "\n",
    "#import other libraries \n",
    "import numpy as np\n",
    "import math\n",
    "from random import randint\n",
    "import random\n",
    "import pandas as pd"
   ]
  },
  {
   "cell_type": "markdown",
   "id": "8aa36eea",
   "metadata": {},
   "source": [
    "## Curves to Graph\n",
    "\n",
    "- $y = 0n + 1$ and label the curve \"O(1)\"\n",
    "- $y = log(n)$ and label the curve \"O(log n)\"\n",
    "- $y = n$ and label the curve \"O(n)\"\n",
    "- $y = n * log(n)$ and label it \"O(n log n)\"\n",
    "- $y = n^2$ and label it \"O(n^2)\"\n",
    "- $y = 2^n$ and label it \"O(2^n)\"\n",
    "- $y = n!$ and label it \"O(n!)\"\n",
    "- $y = n^n$ and label it \"O(n^n)\""
   ]
  },
  {
   "cell_type": "code",
   "execution_count": 2,
   "id": "0bb26df9",
   "metadata": {},
   "outputs": [
    {
     "ename": "SyntaxError",
     "evalue": "invalid syntax (762289079.py, line 30)",
     "output_type": "error",
     "traceback": [
      "\u001b[0;36m  File \u001b[0;32m\"/var/folders/dk/lzs3plw14ms00nxw2vwq68vc0000gn/T/ipykernel_1792/762289079.py\"\u001b[0;36m, line \u001b[0;32m30\u001b[0m\n\u001b[0;31m    y7 = [(n!) for n in n]\u001b[0m\n\u001b[0m            ^\u001b[0m\n\u001b[0;31mSyntaxError\u001b[0m\u001b[0;31m:\u001b[0m invalid syntax\n"
     ]
    }
   ],
   "source": [
    "n = range(1, 100)\n",
    "plt.figure(figsize = (8,6))\n",
    "plt.ylim(-100, 100)\n",
    "\n",
    "# 𝑦=0𝑛+1 and label the curve 'O(1)'\n",
    "y1 = [(0 * n) + 1 for n in n]\n",
    "plt.plot(n, y1, label = \"0(1)\")\n",
    "\n",
    "# 𝑦=𝑙𝑜𝑔(𝑛) and label the curve \"O(log n)\"\n",
    "y2 = [math.log(n) for n in n]\n",
    "plt.plot(n, y2, label = 'O(log n)')\n",
    "\n",
    "# 𝑦=𝑛 and label the curve \"O(n)\"\n",
    "y3 = [n for n in n]\n",
    "plt.plot(n, y3, label = 'O(n)')\n",
    "\n",
    "# 𝑦=𝑛∗𝑙𝑜𝑔(𝑛) and label the curve 'O(n log n)'\n",
    "y4 = [(n * math.log(n)) for n in n]\n",
    "plt.plot(n, y4, label = 'O(n log n)')\n",
    "\n",
    "# 𝑦=𝑛^2 and label the curve 'O(n^2)'\n",
    "y5 = [(n ** 2) for n in n]\n",
    "plt.plot(n, y5, label = 'O(n^2)')\n",
    "\n",
    "# 𝑦=2^n and label it 'O(2^n)'\n",
    "y6 = [(2**n) for n in n]\n",
    "plt.plot(n, y6, label = 'O(2^n)')\n",
    "\n",
    "#𝑦=𝑛! and label it 'O(n!)'\n",
    "y7 = [(n!) for n in n]\n",
    "plt.plot(n, y7, lable = 'O(n!)')"
   ]
  },
  {
   "cell_type": "code",
   "execution_count": 4,
   "id": "114ae9ce",
   "metadata": {},
   "outputs": [
    {
     "ename": "NameError",
     "evalue": "name 'plot' is not defined",
     "output_type": "error",
     "traceback": [
      "\u001b[0;31m---------------------------------------------------------------------------\u001b[0m",
      "\u001b[0;31mNameError\u001b[0m                                 Traceback (most recent call last)",
      "\u001b[0;32m/var/folders/dk/lzs3plw14ms00nxw2vwq68vc0000gn/T/ipykernel_9054/559372921.py\u001b[0m in \u001b[0;36m<module>\u001b[0;34m\u001b[0m\n\u001b[1;32m      1\u001b[0m \u001b[0;31m# Title your chart \"Big O Notation\"\u001b[0m\u001b[0;34m\u001b[0m\u001b[0;34m\u001b[0m\u001b[0m\n\u001b[0;32m----> 2\u001b[0;31m \u001b[0mplot\u001b[0m\u001b[0;34m.\u001b[0m\u001b[0mtitle\u001b[0m\u001b[0;34m(\u001b[0m\u001b[0;34m\"Big O Notation\"\u001b[0m\u001b[0;34m)\u001b[0m\u001b[0;34m\u001b[0m\u001b[0;34m\u001b[0m\u001b[0m\n\u001b[0m\u001b[1;32m      3\u001b[0m \u001b[0;34m\u001b[0m\u001b[0m\n\u001b[1;32m      4\u001b[0m \u001b[0;31m# Label your x axis \"Elements\"\u001b[0m\u001b[0;34m\u001b[0m\u001b[0;34m\u001b[0m\u001b[0m\n\u001b[1;32m      5\u001b[0m \u001b[0mplot\u001b[0m\u001b[0;34m.\u001b[0m\u001b[0mxlabel\u001b[0m\u001b[0;34m(\u001b[0m\u001b[0;34m\"Elements\"\u001b[0m\u001b[0;34m)\u001b[0m\u001b[0;34m\u001b[0m\u001b[0;34m\u001b[0m\u001b[0m\n",
      "\u001b[0;31mNameError\u001b[0m: name 'plot' is not defined"
     ]
    }
   ],
   "source": [
    "# Title your chart \"Big O Notation\"\n",
    "plot.title(\"Big O Notation\")\n",
    "\n",
    "# Label your x axis \"Elements\"\n",
    "plot.xlabel(\"Elements\")\n",
    "\n",
    "# Label your y axis \"Operations\"\n",
    "plot.ylabel(\"Operations\")\n",
    "\n",
    "# Label your curves or make a legend for the curves\n",
    "plt.legend()"
   ]
  },
  {
   "cell_type": "code",
   "execution_count": null,
   "id": "21027bb3",
   "metadata": {},
   "outputs": [],
   "source": []
  }
 ],
 "metadata": {
  "kernelspec": {
   "display_name": "Python 3 (ipykernel)",
   "language": "python",
   "name": "python3"
  },
  "language_info": {
   "codemirror_mode": {
    "name": "ipython",
    "version": 3
   },
   "file_extension": ".py",
   "mimetype": "text/x-python",
   "name": "python",
   "nbconvert_exporter": "python",
   "pygments_lexer": "ipython3",
   "version": "3.9.7"
  }
 },
 "nbformat": 4,
 "nbformat_minor": 5
}
