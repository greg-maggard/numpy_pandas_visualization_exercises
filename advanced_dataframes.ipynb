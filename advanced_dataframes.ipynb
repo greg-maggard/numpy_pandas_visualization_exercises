{
 "cells": [
  {
   "cell_type": "code",
   "execution_count": 23,
   "id": "619bc555",
   "metadata": {},
   "outputs": [],
   "source": [
    "import numpy as np\n",
    "import pandas as pd\n",
    "from datetime import date\n",
    "from env import get_db_url\n",
    "from pydataset import data\n",
    "\n",
    "url = get_db_url('employees')"
   ]
  },
  {
   "cell_type": "markdown",
   "id": "dd292f41",
   "metadata": {},
   "source": [
    "# Exercises I"
   ]
  },
  {
   "cell_type": "markdown",
   "id": "435718c9",
   "metadata": {},
   "source": [
    "## 1 - 4: I have installed pymysql, added env.py to the .gitignore file, created the get_db_url function, and used it to gain access to the 'employees' database."
   ]
  },
  {
   "cell_type": "code",
   "execution_count": 2,
   "id": "90019d9d",
   "metadata": {},
   "outputs": [
    {
     "data": {
      "text/html": [
       "<div>\n",
       "<style scoped>\n",
       "    .dataframe tbody tr th:only-of-type {\n",
       "        vertical-align: middle;\n",
       "    }\n",
       "\n",
       "    .dataframe tbody tr th {\n",
       "        vertical-align: top;\n",
       "    }\n",
       "\n",
       "    .dataframe thead th {\n",
       "        text-align: right;\n",
       "    }\n",
       "</style>\n",
       "<table border=\"1\" class=\"dataframe\">\n",
       "  <thead>\n",
       "    <tr style=\"text-align: right;\">\n",
       "      <th></th>\n",
       "      <th>emp_no</th>\n",
       "      <th>birth_date</th>\n",
       "      <th>first_name</th>\n",
       "      <th>last_name</th>\n",
       "      <th>gender</th>\n",
       "      <th>hire_date</th>\n",
       "    </tr>\n",
       "  </thead>\n",
       "  <tbody>\n",
       "    <tr>\n",
       "      <th>0</th>\n",
       "      <td>10051</td>\n",
       "      <td>1953-07-28</td>\n",
       "      <td>Hidefumi</td>\n",
       "      <td>Caine</td>\n",
       "      <td>M</td>\n",
       "      <td>1992-10-15</td>\n",
       "    </tr>\n",
       "    <tr>\n",
       "      <th>1</th>\n",
       "      <td>10052</td>\n",
       "      <td>1961-02-26</td>\n",
       "      <td>Heping</td>\n",
       "      <td>Nitsch</td>\n",
       "      <td>M</td>\n",
       "      <td>1988-05-21</td>\n",
       "    </tr>\n",
       "    <tr>\n",
       "      <th>2</th>\n",
       "      <td>10053</td>\n",
       "      <td>1954-09-13</td>\n",
       "      <td>Sanjiv</td>\n",
       "      <td>Zschoche</td>\n",
       "      <td>F</td>\n",
       "      <td>1986-02-04</td>\n",
       "    </tr>\n",
       "    <tr>\n",
       "      <th>3</th>\n",
       "      <td>10054</td>\n",
       "      <td>1957-04-04</td>\n",
       "      <td>Mayumi</td>\n",
       "      <td>Schueller</td>\n",
       "      <td>M</td>\n",
       "      <td>1995-03-13</td>\n",
       "    </tr>\n",
       "    <tr>\n",
       "      <th>4</th>\n",
       "      <td>10055</td>\n",
       "      <td>1956-06-06</td>\n",
       "      <td>Georgy</td>\n",
       "      <td>Dredge</td>\n",
       "      <td>M</td>\n",
       "      <td>1992-04-27</td>\n",
       "    </tr>\n",
       "  </tbody>\n",
       "</table>\n",
       "</div>"
      ],
      "text/plain": [
       "   emp_no  birth_date first_name  last_name gender   hire_date\n",
       "0   10051  1953-07-28   Hidefumi      Caine      M  1992-10-15\n",
       "1   10052  1961-02-26     Heping     Nitsch      M  1988-05-21\n",
       "2   10053  1954-09-13     Sanjiv   Zschoche      F  1986-02-04\n",
       "3   10054  1957-04-04     Mayumi  Schueller      M  1995-03-13\n",
       "4   10055  1956-06-06     Georgy     Dredge      M  1992-04-27"
      ]
     },
     "execution_count": 2,
     "metadata": {},
     "output_type": "execute_result"
    }
   ],
   "source": [
    "pd.read_sql('SELECT * FROM employees LIMIT 5 OFFSET 50', url)"
   ]
  },
  {
   "cell_type": "markdown",
   "id": "736c5a49",
   "metadata": {},
   "source": [
    "## 5. Once you have successfully run a query:  "
   ]
  },
  {
   "cell_type": "markdown",
   "id": "b7b149cc",
   "metadata": {},
   "source": [
    "### a. Intentionally make a typo in the database url. What kind of error message do you see?"
   ]
  },
  {
   "cell_type": "code",
   "execution_count": 3,
   "id": "293ae616",
   "metadata": {},
   "outputs": [],
   "source": [
    "#url = get_db_url('employes')\n",
    "\n",
    "#pd.read_sql('SELECT * FROM employees LIMIT 5 OFFSET 50', url)\n",
    "\n",
    "#You get an error that says \"(1044, \"Access denied for user '*user_name*''@'%' to database 'employes'\")\""
   ]
  },
  {
   "cell_type": "markdown",
   "id": "30dd49c3",
   "metadata": {},
   "source": [
    "### b. Intentionally make an error in your SQL query. What does the error message look like?"
   ]
  },
  {
   "cell_type": "code",
   "execution_count": 4,
   "id": "1c7e1471",
   "metadata": {},
   "outputs": [],
   "source": [
    "#pd.read_sql('SELECT * FROM employees LIMT 5 OFFSET 50', url)\n",
    "\n",
    "#ProgrammingError: (pymysql.err.ProgrammingError) (1064, \"You have an error in your SQL syntax; check the manual that corresponds to your MySQL server version for the right syntax to use near '5 OFFSET 50' at line 1\")"
   ]
  },
  {
   "cell_type": "markdown",
   "id": "7d45d869",
   "metadata": {},
   "source": [
    "## 6. Read the employees and titles tables into two separate DataFrames."
   ]
  },
  {
   "cell_type": "code",
   "execution_count": 5,
   "id": "f11d975a",
   "metadata": {},
   "outputs": [
    {
     "data": {
      "text/html": [
       "<div>\n",
       "<style scoped>\n",
       "    .dataframe tbody tr th:only-of-type {\n",
       "        vertical-align: middle;\n",
       "    }\n",
       "\n",
       "    .dataframe tbody tr th {\n",
       "        vertical-align: top;\n",
       "    }\n",
       "\n",
       "    .dataframe thead th {\n",
       "        text-align: right;\n",
       "    }\n",
       "</style>\n",
       "<table border=\"1\" class=\"dataframe\">\n",
       "  <thead>\n",
       "    <tr style=\"text-align: right;\">\n",
       "      <th></th>\n",
       "      <th>emp_no</th>\n",
       "      <th>birth_date</th>\n",
       "      <th>first_name</th>\n",
       "      <th>last_name</th>\n",
       "      <th>gender</th>\n",
       "      <th>hire_date</th>\n",
       "    </tr>\n",
       "  </thead>\n",
       "  <tbody>\n",
       "    <tr>\n",
       "      <th>0</th>\n",
       "      <td>10001</td>\n",
       "      <td>1953-09-02</td>\n",
       "      <td>Georgi</td>\n",
       "      <td>Facello</td>\n",
       "      <td>M</td>\n",
       "      <td>1986-06-26</td>\n",
       "    </tr>\n",
       "    <tr>\n",
       "      <th>1</th>\n",
       "      <td>10002</td>\n",
       "      <td>1964-06-02</td>\n",
       "      <td>Bezalel</td>\n",
       "      <td>Simmel</td>\n",
       "      <td>F</td>\n",
       "      <td>1985-11-21</td>\n",
       "    </tr>\n",
       "    <tr>\n",
       "      <th>2</th>\n",
       "      <td>10003</td>\n",
       "      <td>1959-12-03</td>\n",
       "      <td>Parto</td>\n",
       "      <td>Bamford</td>\n",
       "      <td>M</td>\n",
       "      <td>1986-08-28</td>\n",
       "    </tr>\n",
       "    <tr>\n",
       "      <th>3</th>\n",
       "      <td>10004</td>\n",
       "      <td>1954-05-01</td>\n",
       "      <td>Chirstian</td>\n",
       "      <td>Koblick</td>\n",
       "      <td>M</td>\n",
       "      <td>1986-12-01</td>\n",
       "    </tr>\n",
       "    <tr>\n",
       "      <th>4</th>\n",
       "      <td>10005</td>\n",
       "      <td>1955-01-21</td>\n",
       "      <td>Kyoichi</td>\n",
       "      <td>Maliniak</td>\n",
       "      <td>M</td>\n",
       "      <td>1989-09-12</td>\n",
       "    </tr>\n",
       "    <tr>\n",
       "      <th>...</th>\n",
       "      <td>...</td>\n",
       "      <td>...</td>\n",
       "      <td>...</td>\n",
       "      <td>...</td>\n",
       "      <td>...</td>\n",
       "      <td>...</td>\n",
       "    </tr>\n",
       "    <tr>\n",
       "      <th>300019</th>\n",
       "      <td>499995</td>\n",
       "      <td>1958-09-24</td>\n",
       "      <td>Dekang</td>\n",
       "      <td>Lichtner</td>\n",
       "      <td>F</td>\n",
       "      <td>1993-01-12</td>\n",
       "    </tr>\n",
       "    <tr>\n",
       "      <th>300020</th>\n",
       "      <td>499996</td>\n",
       "      <td>1953-03-07</td>\n",
       "      <td>Zito</td>\n",
       "      <td>Baaz</td>\n",
       "      <td>M</td>\n",
       "      <td>1990-09-27</td>\n",
       "    </tr>\n",
       "    <tr>\n",
       "      <th>300021</th>\n",
       "      <td>499997</td>\n",
       "      <td>1961-08-03</td>\n",
       "      <td>Berhard</td>\n",
       "      <td>Lenart</td>\n",
       "      <td>M</td>\n",
       "      <td>1986-04-21</td>\n",
       "    </tr>\n",
       "    <tr>\n",
       "      <th>300022</th>\n",
       "      <td>499998</td>\n",
       "      <td>1956-09-05</td>\n",
       "      <td>Patricia</td>\n",
       "      <td>Breugel</td>\n",
       "      <td>M</td>\n",
       "      <td>1993-10-13</td>\n",
       "    </tr>\n",
       "    <tr>\n",
       "      <th>300023</th>\n",
       "      <td>499999</td>\n",
       "      <td>1958-05-01</td>\n",
       "      <td>Sachin</td>\n",
       "      <td>Tsukuda</td>\n",
       "      <td>M</td>\n",
       "      <td>1997-11-30</td>\n",
       "    </tr>\n",
       "  </tbody>\n",
       "</table>\n",
       "<p>300024 rows × 6 columns</p>\n",
       "</div>"
      ],
      "text/plain": [
       "        emp_no  birth_date first_name last_name gender   hire_date\n",
       "0        10001  1953-09-02     Georgi   Facello      M  1986-06-26\n",
       "1        10002  1964-06-02    Bezalel    Simmel      F  1985-11-21\n",
       "2        10003  1959-12-03      Parto   Bamford      M  1986-08-28\n",
       "3        10004  1954-05-01  Chirstian   Koblick      M  1986-12-01\n",
       "4        10005  1955-01-21    Kyoichi  Maliniak      M  1989-09-12\n",
       "...        ...         ...        ...       ...    ...         ...\n",
       "300019  499995  1958-09-24     Dekang  Lichtner      F  1993-01-12\n",
       "300020  499996  1953-03-07       Zito      Baaz      M  1990-09-27\n",
       "300021  499997  1961-08-03    Berhard    Lenart      M  1986-04-21\n",
       "300022  499998  1956-09-05   Patricia   Breugel      M  1993-10-13\n",
       "300023  499999  1958-05-01     Sachin   Tsukuda      M  1997-11-30\n",
       "\n",
       "[300024 rows x 6 columns]"
      ]
     },
     "execution_count": 5,
     "metadata": {},
     "output_type": "execute_result"
    }
   ],
   "source": [
    "# Employees:\n",
    "\n",
    "df_employees = pd.read_sql('SELECT * FROM employees.employees', url)\n",
    "\n",
    "df_employees"
   ]
  },
  {
   "cell_type": "code",
   "execution_count": 6,
   "id": "dfd82d9e",
   "metadata": {},
   "outputs": [
    {
     "data": {
      "text/html": [
       "<div>\n",
       "<style scoped>\n",
       "    .dataframe tbody tr th:only-of-type {\n",
       "        vertical-align: middle;\n",
       "    }\n",
       "\n",
       "    .dataframe tbody tr th {\n",
       "        vertical-align: top;\n",
       "    }\n",
       "\n",
       "    .dataframe thead th {\n",
       "        text-align: right;\n",
       "    }\n",
       "</style>\n",
       "<table border=\"1\" class=\"dataframe\">\n",
       "  <thead>\n",
       "    <tr style=\"text-align: right;\">\n",
       "      <th></th>\n",
       "      <th>emp_no</th>\n",
       "      <th>title</th>\n",
       "      <th>from_date</th>\n",
       "      <th>to_date</th>\n",
       "    </tr>\n",
       "  </thead>\n",
       "  <tbody>\n",
       "    <tr>\n",
       "      <th>0</th>\n",
       "      <td>10001</td>\n",
       "      <td>Senior Engineer</td>\n",
       "      <td>1986-06-26</td>\n",
       "      <td>9999-01-01</td>\n",
       "    </tr>\n",
       "    <tr>\n",
       "      <th>1</th>\n",
       "      <td>10002</td>\n",
       "      <td>Staff</td>\n",
       "      <td>1996-08-03</td>\n",
       "      <td>9999-01-01</td>\n",
       "    </tr>\n",
       "    <tr>\n",
       "      <th>2</th>\n",
       "      <td>10003</td>\n",
       "      <td>Senior Engineer</td>\n",
       "      <td>1995-12-03</td>\n",
       "      <td>9999-01-01</td>\n",
       "    </tr>\n",
       "    <tr>\n",
       "      <th>3</th>\n",
       "      <td>10004</td>\n",
       "      <td>Engineer</td>\n",
       "      <td>1986-12-01</td>\n",
       "      <td>1995-12-01</td>\n",
       "    </tr>\n",
       "    <tr>\n",
       "      <th>4</th>\n",
       "      <td>10004</td>\n",
       "      <td>Senior Engineer</td>\n",
       "      <td>1995-12-01</td>\n",
       "      <td>9999-01-01</td>\n",
       "    </tr>\n",
       "    <tr>\n",
       "      <th>...</th>\n",
       "      <td>...</td>\n",
       "      <td>...</td>\n",
       "      <td>...</td>\n",
       "      <td>...</td>\n",
       "    </tr>\n",
       "    <tr>\n",
       "      <th>443303</th>\n",
       "      <td>499997</td>\n",
       "      <td>Engineer</td>\n",
       "      <td>1987-08-30</td>\n",
       "      <td>1992-08-29</td>\n",
       "    </tr>\n",
       "    <tr>\n",
       "      <th>443304</th>\n",
       "      <td>499997</td>\n",
       "      <td>Senior Engineer</td>\n",
       "      <td>1992-08-29</td>\n",
       "      <td>9999-01-01</td>\n",
       "    </tr>\n",
       "    <tr>\n",
       "      <th>443305</th>\n",
       "      <td>499998</td>\n",
       "      <td>Senior Staff</td>\n",
       "      <td>1998-12-27</td>\n",
       "      <td>9999-01-01</td>\n",
       "    </tr>\n",
       "    <tr>\n",
       "      <th>443306</th>\n",
       "      <td>499998</td>\n",
       "      <td>Staff</td>\n",
       "      <td>1993-12-27</td>\n",
       "      <td>1998-12-27</td>\n",
       "    </tr>\n",
       "    <tr>\n",
       "      <th>443307</th>\n",
       "      <td>499999</td>\n",
       "      <td>Engineer</td>\n",
       "      <td>1997-11-30</td>\n",
       "      <td>9999-01-01</td>\n",
       "    </tr>\n",
       "  </tbody>\n",
       "</table>\n",
       "<p>443308 rows × 4 columns</p>\n",
       "</div>"
      ],
      "text/plain": [
       "        emp_no            title   from_date     to_date\n",
       "0        10001  Senior Engineer  1986-06-26  9999-01-01\n",
       "1        10002            Staff  1996-08-03  9999-01-01\n",
       "2        10003  Senior Engineer  1995-12-03  9999-01-01\n",
       "3        10004         Engineer  1986-12-01  1995-12-01\n",
       "4        10004  Senior Engineer  1995-12-01  9999-01-01\n",
       "...        ...              ...         ...         ...\n",
       "443303  499997         Engineer  1987-08-30  1992-08-29\n",
       "443304  499997  Senior Engineer  1992-08-29  9999-01-01\n",
       "443305  499998     Senior Staff  1998-12-27  9999-01-01\n",
       "443306  499998            Staff  1993-12-27  1998-12-27\n",
       "443307  499999         Engineer  1997-11-30  9999-01-01\n",
       "\n",
       "[443308 rows x 4 columns]"
      ]
     },
     "execution_count": 6,
     "metadata": {},
     "output_type": "execute_result"
    }
   ],
   "source": [
    "#Titles:\n",
    "df_titles = pd.read_sql('SELECT * FROM employees.titles', url)\n",
    "\n",
    "df_titles"
   ]
  },
  {
   "cell_type": "markdown",
   "id": "815121a9",
   "metadata": {},
   "source": [
    "### 7. How many rows and columns do you have in each DataFrame? Is that what you expected? "
   ]
  },
  {
   "cell_type": "code",
   "execution_count": 7,
   "id": "addb501a",
   "metadata": {},
   "outputs": [
    {
     "data": {
      "text/plain": [
       "(300024, 6)"
      ]
     },
     "execution_count": 7,
     "metadata": {},
     "output_type": "execute_result"
    }
   ],
   "source": [
    "df_employees.shape"
   ]
  },
  {
   "cell_type": "code",
   "execution_count": 8,
   "id": "41a6bc53",
   "metadata": {},
   "outputs": [
    {
     "data": {
      "text/plain": [
       "(443308, 4)"
      ]
     },
     "execution_count": 8,
     "metadata": {},
     "output_type": "execute_result"
    }
   ],
   "source": [
    "df_titles.shape"
   ]
  },
  {
   "cell_type": "markdown",
   "id": "58a8172f",
   "metadata": {},
   "source": [
    "### 8. Display the summary statistics for each DataFrame."
   ]
  },
  {
   "cell_type": "code",
   "execution_count": 9,
   "id": "ec53760c",
   "metadata": {},
   "outputs": [
    {
     "data": {
      "text/html": [
       "<div>\n",
       "<style scoped>\n",
       "    .dataframe tbody tr th:only-of-type {\n",
       "        vertical-align: middle;\n",
       "    }\n",
       "\n",
       "    .dataframe tbody tr th {\n",
       "        vertical-align: top;\n",
       "    }\n",
       "\n",
       "    .dataframe thead th {\n",
       "        text-align: right;\n",
       "    }\n",
       "</style>\n",
       "<table border=\"1\" class=\"dataframe\">\n",
       "  <thead>\n",
       "    <tr style=\"text-align: right;\">\n",
       "      <th></th>\n",
       "      <th>emp_no</th>\n",
       "    </tr>\n",
       "  </thead>\n",
       "  <tbody>\n",
       "    <tr>\n",
       "      <th>count</th>\n",
       "      <td>300024.000000</td>\n",
       "    </tr>\n",
       "    <tr>\n",
       "      <th>mean</th>\n",
       "      <td>253321.763392</td>\n",
       "    </tr>\n",
       "    <tr>\n",
       "      <th>std</th>\n",
       "      <td>161828.235540</td>\n",
       "    </tr>\n",
       "    <tr>\n",
       "      <th>min</th>\n",
       "      <td>10001.000000</td>\n",
       "    </tr>\n",
       "    <tr>\n",
       "      <th>25%</th>\n",
       "      <td>85006.750000</td>\n",
       "    </tr>\n",
       "    <tr>\n",
       "      <th>50%</th>\n",
       "      <td>249987.500000</td>\n",
       "    </tr>\n",
       "    <tr>\n",
       "      <th>75%</th>\n",
       "      <td>424993.250000</td>\n",
       "    </tr>\n",
       "    <tr>\n",
       "      <th>max</th>\n",
       "      <td>499999.000000</td>\n",
       "    </tr>\n",
       "  </tbody>\n",
       "</table>\n",
       "</div>"
      ],
      "text/plain": [
       "              emp_no\n",
       "count  300024.000000\n",
       "mean   253321.763392\n",
       "std    161828.235540\n",
       "min     10001.000000\n",
       "25%     85006.750000\n",
       "50%    249987.500000\n",
       "75%    424993.250000\n",
       "max    499999.000000"
      ]
     },
     "execution_count": 9,
     "metadata": {},
     "output_type": "execute_result"
    }
   ],
   "source": [
    "#Describing Employees Table:\n",
    "df_employees.describe()"
   ]
  },
  {
   "cell_type": "code",
   "execution_count": 10,
   "id": "67d5be46",
   "metadata": {},
   "outputs": [
    {
     "data": {
      "text/html": [
       "<div>\n",
       "<style scoped>\n",
       "    .dataframe tbody tr th:only-of-type {\n",
       "        vertical-align: middle;\n",
       "    }\n",
       "\n",
       "    .dataframe tbody tr th {\n",
       "        vertical-align: top;\n",
       "    }\n",
       "\n",
       "    .dataframe thead th {\n",
       "        text-align: right;\n",
       "    }\n",
       "</style>\n",
       "<table border=\"1\" class=\"dataframe\">\n",
       "  <thead>\n",
       "    <tr style=\"text-align: right;\">\n",
       "      <th></th>\n",
       "      <th>emp_no</th>\n",
       "    </tr>\n",
       "  </thead>\n",
       "  <tbody>\n",
       "    <tr>\n",
       "      <th>count</th>\n",
       "      <td>443308.000000</td>\n",
       "    </tr>\n",
       "    <tr>\n",
       "      <th>mean</th>\n",
       "      <td>253075.034430</td>\n",
       "    </tr>\n",
       "    <tr>\n",
       "      <th>std</th>\n",
       "      <td>161853.292613</td>\n",
       "    </tr>\n",
       "    <tr>\n",
       "      <th>min</th>\n",
       "      <td>10001.000000</td>\n",
       "    </tr>\n",
       "    <tr>\n",
       "      <th>25%</th>\n",
       "      <td>84855.750000</td>\n",
       "    </tr>\n",
       "    <tr>\n",
       "      <th>50%</th>\n",
       "      <td>249847.500000</td>\n",
       "    </tr>\n",
       "    <tr>\n",
       "      <th>75%</th>\n",
       "      <td>424891.250000</td>\n",
       "    </tr>\n",
       "    <tr>\n",
       "      <th>max</th>\n",
       "      <td>499999.000000</td>\n",
       "    </tr>\n",
       "  </tbody>\n",
       "</table>\n",
       "</div>"
      ],
      "text/plain": [
       "              emp_no\n",
       "count  443308.000000\n",
       "mean   253075.034430\n",
       "std    161853.292613\n",
       "min     10001.000000\n",
       "25%     84855.750000\n",
       "50%    249847.500000\n",
       "75%    424891.250000\n",
       "max    499999.000000"
      ]
     },
     "execution_count": 10,
     "metadata": {},
     "output_type": "execute_result"
    }
   ],
   "source": [
    "#Describing Titles Table:\n",
    "df_titles.describe()"
   ]
  },
  {
   "cell_type": "markdown",
   "id": "c2fd0b2a",
   "metadata": {},
   "source": [
    "### 9. How many unique titles are in the titles DataFrame?"
   ]
  },
  {
   "cell_type": "code",
   "execution_count": 11,
   "id": "8cece598",
   "metadata": {},
   "outputs": [
    {
     "data": {
      "text/html": [
       "<div>\n",
       "<style scoped>\n",
       "    .dataframe tbody tr th:only-of-type {\n",
       "        vertical-align: middle;\n",
       "    }\n",
       "\n",
       "    .dataframe tbody tr th {\n",
       "        vertical-align: top;\n",
       "    }\n",
       "\n",
       "    .dataframe thead th {\n",
       "        text-align: right;\n",
       "    }\n",
       "</style>\n",
       "<table border=\"1\" class=\"dataframe\">\n",
       "  <thead>\n",
       "    <tr style=\"text-align: right;\">\n",
       "      <th></th>\n",
       "      <th>title</th>\n",
       "    </tr>\n",
       "  </thead>\n",
       "  <tbody>\n",
       "    <tr>\n",
       "      <th>0</th>\n",
       "      <td>Senior Engineer</td>\n",
       "    </tr>\n",
       "    <tr>\n",
       "      <th>1</th>\n",
       "      <td>Staff</td>\n",
       "    </tr>\n",
       "    <tr>\n",
       "      <th>2</th>\n",
       "      <td>Engineer</td>\n",
       "    </tr>\n",
       "    <tr>\n",
       "      <th>3</th>\n",
       "      <td>Senior Staff</td>\n",
       "    </tr>\n",
       "    <tr>\n",
       "      <th>4</th>\n",
       "      <td>Assistant Engineer</td>\n",
       "    </tr>\n",
       "    <tr>\n",
       "      <th>5</th>\n",
       "      <td>Technique Leader</td>\n",
       "    </tr>\n",
       "    <tr>\n",
       "      <th>6</th>\n",
       "      <td>Manager</td>\n",
       "    </tr>\n",
       "  </tbody>\n",
       "</table>\n",
       "</div>"
      ],
      "text/plain": [
       "                title\n",
       "0     Senior Engineer\n",
       "1               Staff\n",
       "2            Engineer\n",
       "3        Senior Staff\n",
       "4  Assistant Engineer\n",
       "5    Technique Leader\n",
       "6             Manager"
      ]
     },
     "execution_count": 11,
     "metadata": {},
     "output_type": "execute_result"
    }
   ],
   "source": [
    "#Using a SQL query in this field to show a classmate that we can *technically* use pandas to pass a SQL query, but it's often faster to save the table to a dataframe and then use pandas to run analysis on that dataframe.\n",
    "\n",
    "pd.read_sql('SELECT DISTINCT title from titles', url)"
   ]
  },
  {
   "cell_type": "code",
   "execution_count": 12,
   "id": "a31e5962",
   "metadata": {},
   "outputs": [
    {
     "data": {
      "text/plain": [
       "array(['Senior Engineer', 'Staff', 'Engineer', 'Senior Staff',\n",
       "       'Assistant Engineer', 'Technique Leader', 'Manager'], dtype=object)"
      ]
     },
     "execution_count": 12,
     "metadata": {},
     "output_type": "execute_result"
    }
   ],
   "source": [
    "df_titles.title.unique()"
   ]
  },
  {
   "cell_type": "markdown",
   "id": "15d9f06f",
   "metadata": {},
   "source": [
    "### 10. What is the oldest date in the to_date column?"
   ]
  },
  {
   "cell_type": "code",
   "execution_count": 13,
   "id": "89345304",
   "metadata": {},
   "outputs": [
    {
     "data": {
      "text/plain": [
       "datetime.date(1985, 3, 1)"
      ]
     },
     "execution_count": 13,
     "metadata": {},
     "output_type": "execute_result"
    }
   ],
   "source": [
    "df_titles.to_date.min()"
   ]
  },
  {
   "cell_type": "markdown",
   "id": "b81696c2",
   "metadata": {},
   "source": [
    "### 11. What is the most recent date in the to_date column?"
   ]
  },
  {
   "cell_type": "code",
   "execution_count": 14,
   "id": "33d4593d",
   "metadata": {},
   "outputs": [
    {
     "data": {
      "text/plain": [
       "datetime.date(9999, 1, 1)"
      ]
     },
     "execution_count": 14,
     "metadata": {},
     "output_type": "execute_result"
    }
   ],
   "source": [
    "df_titles.to_date.max()"
   ]
  },
  {
   "cell_type": "code",
   "execution_count": 15,
   "id": "a415c2c9",
   "metadata": {},
   "outputs": [
    {
     "data": {
      "text/plain": [
       "datetime.date(2002, 8, 1)"
      ]
     },
     "execution_count": 15,
     "metadata": {},
     "output_type": "execute_result"
    }
   ],
   "source": [
    "#I'm not sure that this is correct. The questions is for most recent, but do I need to exclude the dates that haven't happened yet. \n",
    "\n",
    "df_titles[df_titles.to_date < date.today()].to_date.max()"
   ]
  },
  {
   "cell_type": "markdown",
   "id": "ec0d1006",
   "metadata": {},
   "source": [
    "# Exercises II\n",
    "\n",
    "- I need to go through and work these. The below are Ravinder's solutions"
   ]
  },
  {
   "cell_type": "markdown",
   "id": "116e7e06",
   "metadata": {},
   "source": [
    "### 1. Copy the users and roles DataFrames from the examples above."
   ]
  },
  {
   "cell_type": "code",
   "execution_count": 16,
   "id": "359acd60",
   "metadata": {},
   "outputs": [
    {
     "data": {
      "text/html": [
       "<div>\n",
       "<style scoped>\n",
       "    .dataframe tbody tr th:only-of-type {\n",
       "        vertical-align: middle;\n",
       "    }\n",
       "\n",
       "    .dataframe tbody tr th {\n",
       "        vertical-align: top;\n",
       "    }\n",
       "\n",
       "    .dataframe thead th {\n",
       "        text-align: right;\n",
       "    }\n",
       "</style>\n",
       "<table border=\"1\" class=\"dataframe\">\n",
       "  <thead>\n",
       "    <tr style=\"text-align: right;\">\n",
       "      <th></th>\n",
       "      <th>id</th>\n",
       "      <th>name</th>\n",
       "      <th>role_id</th>\n",
       "    </tr>\n",
       "  </thead>\n",
       "  <tbody>\n",
       "    <tr>\n",
       "      <th>0</th>\n",
       "      <td>1</td>\n",
       "      <td>bob</td>\n",
       "      <td>1.0</td>\n",
       "    </tr>\n",
       "    <tr>\n",
       "      <th>1</th>\n",
       "      <td>2</td>\n",
       "      <td>joe</td>\n",
       "      <td>2.0</td>\n",
       "    </tr>\n",
       "    <tr>\n",
       "      <th>2</th>\n",
       "      <td>3</td>\n",
       "      <td>sally</td>\n",
       "      <td>3.0</td>\n",
       "    </tr>\n",
       "    <tr>\n",
       "      <th>3</th>\n",
       "      <td>4</td>\n",
       "      <td>adam</td>\n",
       "      <td>3.0</td>\n",
       "    </tr>\n",
       "    <tr>\n",
       "      <th>4</th>\n",
       "      <td>5</td>\n",
       "      <td>jane</td>\n",
       "      <td>NaN</td>\n",
       "    </tr>\n",
       "    <tr>\n",
       "      <th>5</th>\n",
       "      <td>6</td>\n",
       "      <td>mike</td>\n",
       "      <td>NaN</td>\n",
       "    </tr>\n",
       "  </tbody>\n",
       "</table>\n",
       "</div>"
      ],
      "text/plain": [
       "   id   name  role_id\n",
       "0   1    bob      1.0\n",
       "1   2    joe      2.0\n",
       "2   3  sally      3.0\n",
       "3   4   adam      3.0\n",
       "4   5   jane      NaN\n",
       "5   6   mike      NaN"
      ]
     },
     "execution_count": 16,
     "metadata": {},
     "output_type": "execute_result"
    }
   ],
   "source": [
    "# Create the users DataFrame.\n",
    "\n",
    "users = pd.DataFrame({\n",
    "    'id': [1, 2, 3, 4, 5, 6],\n",
    "    'name': ['bob', 'joe', 'sally', 'adam', 'jane', 'mike'],\n",
    "    'role_id': [1, 2, 3, 3, np.nan, np.nan]\n",
    "})\n",
    "users"
   ]
  },
  {
   "cell_type": "code",
   "execution_count": 17,
   "id": "adad3206",
   "metadata": {},
   "outputs": [
    {
     "data": {
      "text/html": [
       "<div>\n",
       "<style scoped>\n",
       "    .dataframe tbody tr th:only-of-type {\n",
       "        vertical-align: middle;\n",
       "    }\n",
       "\n",
       "    .dataframe tbody tr th {\n",
       "        vertical-align: top;\n",
       "    }\n",
       "\n",
       "    .dataframe thead th {\n",
       "        text-align: right;\n",
       "    }\n",
       "</style>\n",
       "<table border=\"1\" class=\"dataframe\">\n",
       "  <thead>\n",
       "    <tr style=\"text-align: right;\">\n",
       "      <th></th>\n",
       "      <th>id</th>\n",
       "      <th>name</th>\n",
       "    </tr>\n",
       "  </thead>\n",
       "  <tbody>\n",
       "    <tr>\n",
       "      <th>0</th>\n",
       "      <td>1</td>\n",
       "      <td>admin</td>\n",
       "    </tr>\n",
       "    <tr>\n",
       "      <th>1</th>\n",
       "      <td>2</td>\n",
       "      <td>author</td>\n",
       "    </tr>\n",
       "    <tr>\n",
       "      <th>2</th>\n",
       "      <td>3</td>\n",
       "      <td>reviewer</td>\n",
       "    </tr>\n",
       "    <tr>\n",
       "      <th>3</th>\n",
       "      <td>4</td>\n",
       "      <td>commenter</td>\n",
       "    </tr>\n",
       "  </tbody>\n",
       "</table>\n",
       "</div>"
      ],
      "text/plain": [
       "   id       name\n",
       "0   1      admin\n",
       "1   2     author\n",
       "2   3   reviewer\n",
       "3   4  commenter"
      ]
     },
     "execution_count": 17,
     "metadata": {},
     "output_type": "execute_result"
    }
   ],
   "source": [
    "# Create the roles DataFrame\n",
    "\n",
    "roles = pd.DataFrame({\n",
    "    'id': [1, 2, 3, 4],\n",
    "    'name': ['admin', 'author', 'reviewer', 'commenter']\n",
    "})\n",
    "roles"
   ]
  },
  {
   "cell_type": "markdown",
   "id": "71a8cb5a",
   "metadata": {},
   "source": [
    "### 2. What is the result of using a right join on the DataFrames?"
   ]
  },
  {
   "cell_type": "code",
   "execution_count": 18,
   "id": "ef8bde5c",
   "metadata": {},
   "outputs": [
    {
     "data": {
      "text/html": [
       "<div>\n",
       "<style scoped>\n",
       "    .dataframe tbody tr th:only-of-type {\n",
       "        vertical-align: middle;\n",
       "    }\n",
       "\n",
       "    .dataframe tbody tr th {\n",
       "        vertical-align: top;\n",
       "    }\n",
       "\n",
       "    .dataframe thead th {\n",
       "        text-align: right;\n",
       "    }\n",
       "</style>\n",
       "<table border=\"1\" class=\"dataframe\">\n",
       "  <thead>\n",
       "    <tr style=\"text-align: right;\">\n",
       "      <th></th>\n",
       "      <th>id_x</th>\n",
       "      <th>name_x</th>\n",
       "      <th>role_id</th>\n",
       "      <th>id_y</th>\n",
       "      <th>name_y</th>\n",
       "      <th>_merge</th>\n",
       "    </tr>\n",
       "  </thead>\n",
       "  <tbody>\n",
       "    <tr>\n",
       "      <th>0</th>\n",
       "      <td>1.0</td>\n",
       "      <td>bob</td>\n",
       "      <td>1.0</td>\n",
       "      <td>1</td>\n",
       "      <td>admin</td>\n",
       "      <td>both</td>\n",
       "    </tr>\n",
       "    <tr>\n",
       "      <th>1</th>\n",
       "      <td>2.0</td>\n",
       "      <td>joe</td>\n",
       "      <td>2.0</td>\n",
       "      <td>2</td>\n",
       "      <td>author</td>\n",
       "      <td>both</td>\n",
       "    </tr>\n",
       "    <tr>\n",
       "      <th>2</th>\n",
       "      <td>3.0</td>\n",
       "      <td>sally</td>\n",
       "      <td>3.0</td>\n",
       "      <td>3</td>\n",
       "      <td>reviewer</td>\n",
       "      <td>both</td>\n",
       "    </tr>\n",
       "    <tr>\n",
       "      <th>3</th>\n",
       "      <td>4.0</td>\n",
       "      <td>adam</td>\n",
       "      <td>3.0</td>\n",
       "      <td>3</td>\n",
       "      <td>reviewer</td>\n",
       "      <td>both</td>\n",
       "    </tr>\n",
       "    <tr>\n",
       "      <th>4</th>\n",
       "      <td>NaN</td>\n",
       "      <td>NaN</td>\n",
       "      <td>NaN</td>\n",
       "      <td>4</td>\n",
       "      <td>commenter</td>\n",
       "      <td>right_only</td>\n",
       "    </tr>\n",
       "  </tbody>\n",
       "</table>\n",
       "</div>"
      ],
      "text/plain": [
       "   id_x name_x  role_id  id_y     name_y      _merge\n",
       "0   1.0    bob      1.0     1      admin        both\n",
       "1   2.0    joe      2.0     2     author        both\n",
       "2   3.0  sally      3.0     3   reviewer        both\n",
       "3   4.0   adam      3.0     3   reviewer        both\n",
       "4   NaN    NaN      NaN     4  commenter  right_only"
      ]
     },
     "execution_count": 18,
     "metadata": {},
     "output_type": "execute_result"
    }
   ],
   "source": [
    "right_join = users.merge(roles,\n",
    "                        left_on = 'role_id',\n",
    "                        right_on = 'id',\n",
    "                        how = 'right', \n",
    "                        indicator = True)\n",
    "\n",
    "right_join"
   ]
  },
  {
   "cell_type": "markdown",
   "id": "5c16949f",
   "metadata": {},
   "source": [
    "### 3. What is the result of using an outer join on the DataFrames?"
   ]
  },
  {
   "cell_type": "code",
   "execution_count": 19,
   "id": "f84fdbeb",
   "metadata": {},
   "outputs": [
    {
     "data": {
      "text/html": [
       "<div>\n",
       "<style scoped>\n",
       "    .dataframe tbody tr th:only-of-type {\n",
       "        vertical-align: middle;\n",
       "    }\n",
       "\n",
       "    .dataframe tbody tr th {\n",
       "        vertical-align: top;\n",
       "    }\n",
       "\n",
       "    .dataframe thead th {\n",
       "        text-align: right;\n",
       "    }\n",
       "</style>\n",
       "<table border=\"1\" class=\"dataframe\">\n",
       "  <thead>\n",
       "    <tr style=\"text-align: right;\">\n",
       "      <th></th>\n",
       "      <th>id_x</th>\n",
       "      <th>name_x</th>\n",
       "      <th>role_id</th>\n",
       "      <th>id_y</th>\n",
       "      <th>name_y</th>\n",
       "      <th>_merge</th>\n",
       "    </tr>\n",
       "  </thead>\n",
       "  <tbody>\n",
       "    <tr>\n",
       "      <th>0</th>\n",
       "      <td>1.0</td>\n",
       "      <td>bob</td>\n",
       "      <td>1.0</td>\n",
       "      <td>1.0</td>\n",
       "      <td>admin</td>\n",
       "      <td>both</td>\n",
       "    </tr>\n",
       "    <tr>\n",
       "      <th>1</th>\n",
       "      <td>2.0</td>\n",
       "      <td>joe</td>\n",
       "      <td>2.0</td>\n",
       "      <td>2.0</td>\n",
       "      <td>author</td>\n",
       "      <td>both</td>\n",
       "    </tr>\n",
       "    <tr>\n",
       "      <th>2</th>\n",
       "      <td>3.0</td>\n",
       "      <td>sally</td>\n",
       "      <td>3.0</td>\n",
       "      <td>3.0</td>\n",
       "      <td>reviewer</td>\n",
       "      <td>both</td>\n",
       "    </tr>\n",
       "    <tr>\n",
       "      <th>3</th>\n",
       "      <td>4.0</td>\n",
       "      <td>adam</td>\n",
       "      <td>3.0</td>\n",
       "      <td>3.0</td>\n",
       "      <td>reviewer</td>\n",
       "      <td>both</td>\n",
       "    </tr>\n",
       "    <tr>\n",
       "      <th>4</th>\n",
       "      <td>5.0</td>\n",
       "      <td>jane</td>\n",
       "      <td>NaN</td>\n",
       "      <td>NaN</td>\n",
       "      <td>NaN</td>\n",
       "      <td>left_only</td>\n",
       "    </tr>\n",
       "    <tr>\n",
       "      <th>5</th>\n",
       "      <td>6.0</td>\n",
       "      <td>mike</td>\n",
       "      <td>NaN</td>\n",
       "      <td>NaN</td>\n",
       "      <td>NaN</td>\n",
       "      <td>left_only</td>\n",
       "    </tr>\n",
       "    <tr>\n",
       "      <th>6</th>\n",
       "      <td>NaN</td>\n",
       "      <td>NaN</td>\n",
       "      <td>NaN</td>\n",
       "      <td>4.0</td>\n",
       "      <td>commenter</td>\n",
       "      <td>right_only</td>\n",
       "    </tr>\n",
       "  </tbody>\n",
       "</table>\n",
       "</div>"
      ],
      "text/plain": [
       "   id_x name_x  role_id  id_y     name_y      _merge\n",
       "0   1.0    bob      1.0   1.0      admin        both\n",
       "1   2.0    joe      2.0   2.0     author        both\n",
       "2   3.0  sally      3.0   3.0   reviewer        both\n",
       "3   4.0   adam      3.0   3.0   reviewer        both\n",
       "4   5.0   jane      NaN   NaN        NaN   left_only\n",
       "5   6.0   mike      NaN   NaN        NaN   left_only\n",
       "6   NaN    NaN      NaN   4.0  commenter  right_only"
      ]
     },
     "execution_count": 19,
     "metadata": {},
     "output_type": "execute_result"
    }
   ],
   "source": [
    "outer_join = users.merge(roles,\n",
    "                       left_on = 'role_id', \n",
    "                       right_on = 'id', \n",
    "                       how = 'outer', \n",
    "                       indicator = True)\n",
    "\n",
    "outer_join"
   ]
  },
  {
   "cell_type": "markdown",
   "id": "f97fba96",
   "metadata": {},
   "source": [
    "### 4. What happens if you drop the foreign keys from the DataFrames and try to merge them?"
   ]
  },
  {
   "cell_type": "code",
   "execution_count": 20,
   "id": "7d8d8a6f",
   "metadata": {},
   "outputs": [
    {
     "ename": "KeyError",
     "evalue": "'id'",
     "output_type": "error",
     "traceback": [
      "\u001b[0;31m---------------------------------------------------------------------------\u001b[0m",
      "\u001b[0;31mKeyError\u001b[0m                                  Traceback (most recent call last)",
      "\u001b[0;32m/var/folders/dk/lzs3plw14ms00nxw2vwq68vc0000gn/T/ipykernel_18425/570517973.py\u001b[0m in \u001b[0;36m<module>\u001b[0;34m\u001b[0m\n\u001b[1;32m      4\u001b[0m \u001b[0mroles\u001b[0m \u001b[0;34m=\u001b[0m \u001b[0mroles\u001b[0m\u001b[0;34m.\u001b[0m\u001b[0mdrop\u001b[0m\u001b[0;34m(\u001b[0m\u001b[0mcolumns\u001b[0m \u001b[0;34m=\u001b[0m \u001b[0;34m[\u001b[0m\u001b[0;34m'id'\u001b[0m\u001b[0;34m]\u001b[0m\u001b[0;34m)\u001b[0m\u001b[0;34m\u001b[0m\u001b[0;34m\u001b[0m\u001b[0m\n\u001b[1;32m      5\u001b[0m \u001b[0;34m\u001b[0m\u001b[0m\n\u001b[0;32m----> 6\u001b[0;31m right_join = users.merge(roles,\n\u001b[0m\u001b[1;32m      7\u001b[0m                         \u001b[0mleft_on\u001b[0m \u001b[0;34m=\u001b[0m \u001b[0;34m'role_id'\u001b[0m\u001b[0;34m,\u001b[0m\u001b[0;34m\u001b[0m\u001b[0;34m\u001b[0m\u001b[0m\n\u001b[1;32m      8\u001b[0m                         \u001b[0mright_on\u001b[0m \u001b[0;34m=\u001b[0m \u001b[0;34m'id'\u001b[0m\u001b[0;34m,\u001b[0m\u001b[0;34m\u001b[0m\u001b[0;34m\u001b[0m\u001b[0m\n",
      "\u001b[0;32m/opt/homebrew/anaconda3/lib/python3.9/site-packages/pandas/core/frame.py\u001b[0m in \u001b[0;36mmerge\u001b[0;34m(self, right, how, on, left_on, right_on, left_index, right_index, sort, suffixes, copy, indicator, validate)\u001b[0m\n\u001b[1;32m   9188\u001b[0m         \u001b[0;32mfrom\u001b[0m \u001b[0mpandas\u001b[0m\u001b[0;34m.\u001b[0m\u001b[0mcore\u001b[0m\u001b[0;34m.\u001b[0m\u001b[0mreshape\u001b[0m\u001b[0;34m.\u001b[0m\u001b[0mmerge\u001b[0m \u001b[0;32mimport\u001b[0m \u001b[0mmerge\u001b[0m\u001b[0;34m\u001b[0m\u001b[0;34m\u001b[0m\u001b[0m\n\u001b[1;32m   9189\u001b[0m \u001b[0;34m\u001b[0m\u001b[0m\n\u001b[0;32m-> 9190\u001b[0;31m         return merge(\n\u001b[0m\u001b[1;32m   9191\u001b[0m             \u001b[0mself\u001b[0m\u001b[0;34m,\u001b[0m\u001b[0;34m\u001b[0m\u001b[0;34m\u001b[0m\u001b[0m\n\u001b[1;32m   9192\u001b[0m             \u001b[0mright\u001b[0m\u001b[0;34m,\u001b[0m\u001b[0;34m\u001b[0m\u001b[0;34m\u001b[0m\u001b[0m\n",
      "\u001b[0;32m/opt/homebrew/anaconda3/lib/python3.9/site-packages/pandas/core/reshape/merge.py\u001b[0m in \u001b[0;36mmerge\u001b[0;34m(left, right, how, on, left_on, right_on, left_index, right_index, sort, suffixes, copy, indicator, validate)\u001b[0m\n\u001b[1;32m    104\u001b[0m     \u001b[0mvalidate\u001b[0m\u001b[0;34m:\u001b[0m \u001b[0mstr\u001b[0m \u001b[0;34m|\u001b[0m \u001b[0;32mNone\u001b[0m \u001b[0;34m=\u001b[0m \u001b[0;32mNone\u001b[0m\u001b[0;34m,\u001b[0m\u001b[0;34m\u001b[0m\u001b[0;34m\u001b[0m\u001b[0m\n\u001b[1;32m    105\u001b[0m ) -> DataFrame:\n\u001b[0;32m--> 106\u001b[0;31m     op = _MergeOperation(\n\u001b[0m\u001b[1;32m    107\u001b[0m         \u001b[0mleft\u001b[0m\u001b[0;34m,\u001b[0m\u001b[0;34m\u001b[0m\u001b[0;34m\u001b[0m\u001b[0m\n\u001b[1;32m    108\u001b[0m         \u001b[0mright\u001b[0m\u001b[0;34m,\u001b[0m\u001b[0;34m\u001b[0m\u001b[0;34m\u001b[0m\u001b[0m\n",
      "\u001b[0;32m/opt/homebrew/anaconda3/lib/python3.9/site-packages/pandas/core/reshape/merge.py\u001b[0m in \u001b[0;36m__init__\u001b[0;34m(self, left, right, how, on, left_on, right_on, axis, left_index, right_index, sort, suffixes, copy, indicator, validate)\u001b[0m\n\u001b[1;32m    697\u001b[0m             \u001b[0mself\u001b[0m\u001b[0;34m.\u001b[0m\u001b[0mright_join_keys\u001b[0m\u001b[0;34m,\u001b[0m\u001b[0;34m\u001b[0m\u001b[0;34m\u001b[0m\u001b[0m\n\u001b[1;32m    698\u001b[0m             \u001b[0mself\u001b[0m\u001b[0;34m.\u001b[0m\u001b[0mjoin_names\u001b[0m\u001b[0;34m,\u001b[0m\u001b[0;34m\u001b[0m\u001b[0;34m\u001b[0m\u001b[0m\n\u001b[0;32m--> 699\u001b[0;31m         ) = self._get_merge_keys()\n\u001b[0m\u001b[1;32m    700\u001b[0m \u001b[0;34m\u001b[0m\u001b[0m\n\u001b[1;32m    701\u001b[0m         \u001b[0;31m# validate the merge keys dtypes. We may need to coerce\u001b[0m\u001b[0;34m\u001b[0m\u001b[0;34m\u001b[0m\u001b[0m\n",
      "\u001b[0;32m/opt/homebrew/anaconda3/lib/python3.9/site-packages/pandas/core/reshape/merge.py\u001b[0m in \u001b[0;36m_get_merge_keys\u001b[0;34m(self)\u001b[0m\n\u001b[1;32m   1094\u001b[0m                     \u001b[0;32mif\u001b[0m \u001b[0;32mnot\u001b[0m \u001b[0mis_rkey\u001b[0m\u001b[0;34m(\u001b[0m\u001b[0mrk\u001b[0m\u001b[0;34m)\u001b[0m\u001b[0;34m:\u001b[0m\u001b[0;34m\u001b[0m\u001b[0;34m\u001b[0m\u001b[0m\n\u001b[1;32m   1095\u001b[0m                         \u001b[0;32mif\u001b[0m \u001b[0mrk\u001b[0m \u001b[0;32mis\u001b[0m \u001b[0;32mnot\u001b[0m \u001b[0;32mNone\u001b[0m\u001b[0;34m:\u001b[0m\u001b[0;34m\u001b[0m\u001b[0;34m\u001b[0m\u001b[0m\n\u001b[0;32m-> 1096\u001b[0;31m                             \u001b[0mright_keys\u001b[0m\u001b[0;34m.\u001b[0m\u001b[0mappend\u001b[0m\u001b[0;34m(\u001b[0m\u001b[0mright\u001b[0m\u001b[0;34m.\u001b[0m\u001b[0m_get_label_or_level_values\u001b[0m\u001b[0;34m(\u001b[0m\u001b[0mrk\u001b[0m\u001b[0;34m)\u001b[0m\u001b[0;34m)\u001b[0m\u001b[0;34m\u001b[0m\u001b[0;34m\u001b[0m\u001b[0m\n\u001b[0m\u001b[1;32m   1097\u001b[0m                         \u001b[0;32melse\u001b[0m\u001b[0;34m:\u001b[0m\u001b[0;34m\u001b[0m\u001b[0;34m\u001b[0m\u001b[0m\n\u001b[1;32m   1098\u001b[0m                             \u001b[0;31m# work-around for merge_asof(right_index=True)\u001b[0m\u001b[0;34m\u001b[0m\u001b[0;34m\u001b[0m\u001b[0m\n",
      "\u001b[0;32m/opt/homebrew/anaconda3/lib/python3.9/site-packages/pandas/core/generic.py\u001b[0m in \u001b[0;36m_get_label_or_level_values\u001b[0;34m(self, key, axis)\u001b[0m\n\u001b[1;32m   1777\u001b[0m             \u001b[0mvalues\u001b[0m \u001b[0;34m=\u001b[0m \u001b[0mself\u001b[0m\u001b[0;34m.\u001b[0m\u001b[0maxes\u001b[0m\u001b[0;34m[\u001b[0m\u001b[0maxis\u001b[0m\u001b[0;34m]\u001b[0m\u001b[0;34m.\u001b[0m\u001b[0mget_level_values\u001b[0m\u001b[0;34m(\u001b[0m\u001b[0mkey\u001b[0m\u001b[0;34m)\u001b[0m\u001b[0;34m.\u001b[0m\u001b[0m_values\u001b[0m\u001b[0;34m\u001b[0m\u001b[0;34m\u001b[0m\u001b[0m\n\u001b[1;32m   1778\u001b[0m         \u001b[0;32melse\u001b[0m\u001b[0;34m:\u001b[0m\u001b[0;34m\u001b[0m\u001b[0;34m\u001b[0m\u001b[0m\n\u001b[0;32m-> 1779\u001b[0;31m             \u001b[0;32mraise\u001b[0m \u001b[0mKeyError\u001b[0m\u001b[0;34m(\u001b[0m\u001b[0mkey\u001b[0m\u001b[0;34m)\u001b[0m\u001b[0;34m\u001b[0m\u001b[0;34m\u001b[0m\u001b[0m\n\u001b[0m\u001b[1;32m   1780\u001b[0m \u001b[0;34m\u001b[0m\u001b[0m\n\u001b[1;32m   1781\u001b[0m         \u001b[0;31m# Check for duplicates\u001b[0m\u001b[0;34m\u001b[0m\u001b[0;34m\u001b[0m\u001b[0m\n",
      "\u001b[0;31mKeyError\u001b[0m: 'id'"
     ]
    }
   ],
   "source": [
    "#Drop the foreign keys from the tables.\n",
    "\n",
    "users = users.drop(columns = ['id'])\n",
    "roles = roles.drop(columns = ['id'])\n",
    "\n",
    "right_join = users.merge(roles,\n",
    "                        left_on = 'role_id',\n",
    "                        right_on = 'id',\n",
    "                        how = 'right', \n",
    "                        indicator = True)\n",
    "\n",
    "right_join\n",
    "\n",
    "#Without the foreign keys, there is no way to link the tables, so you get a key error when you try. "
   ]
  },
  {
   "cell_type": "markdown",
   "id": "6ed6b9b4",
   "metadata": {},
   "source": [
    "### 5. Load the mpg dataset from PyDataset."
   ]
  },
  {
   "cell_type": "code",
   "execution_count": 21,
   "id": "00281619",
   "metadata": {},
   "outputs": [],
   "source": [
    "mpg = data('mpg')"
   ]
  },
  {
   "cell_type": "markdown",
   "id": "2eb2ebd9",
   "metadata": {},
   "source": [
    "### 6. Output and read the documentation for the mpg dataset."
   ]
  },
  {
   "cell_type": "code",
   "execution_count": 26,
   "id": "b1961703",
   "metadata": {},
   "outputs": [
    {
     "name": "stdout",
     "output_type": "stream",
     "text": [
      "mpg\n",
      "\n",
      "PyDataset Documentation (adopted from R Documentation. The displayed examples are in R)\n",
      "\n",
      "## Fuel economy data from 1999 and 2008 for 38 popular models of car\n",
      "\n",
      "### Description\n",
      "\n",
      "This dataset contains a subset of the fuel economy data that the EPA makes\n",
      "available on http://fueleconomy.gov. It contains only models which had a new\n",
      "release every year between 1999 and 2008 - this was used as a proxy for the\n",
      "popularity of the car.\n",
      "\n",
      "### Usage\n",
      "\n",
      "    data(mpg)\n",
      "\n",
      "### Format\n",
      "\n",
      "A data frame with 234 rows and 11 variables\n",
      "\n",
      "### Details\n",
      "\n",
      "  * manufacturer. \n",
      "\n",
      "  * model. \n",
      "\n",
      "  * displ. engine displacement, in litres \n",
      "\n",
      "  * year. \n",
      "\n",
      "  * cyl. number of cylinders \n",
      "\n",
      "  * trans. type of transmission \n",
      "\n",
      "  * drv. f = front-wheel drive, r = rear wheel drive, 4 = 4wd \n",
      "\n",
      "  * cty. city miles per gallon \n",
      "\n",
      "  * hwy. highway miles per gallon \n",
      "\n",
      "  * fl. \n",
      "\n",
      "  * class. \n",
      "\n",
      "\n"
     ]
    }
   ],
   "source": [
    "data('mpg', show_doc = True)"
   ]
  },
  {
   "cell_type": "markdown",
   "id": "7958e928",
   "metadata": {},
   "source": [
    "### 7. How many rows and columns are in the dataset?"
   ]
  },
  {
   "cell_type": "code",
   "execution_count": 27,
   "id": "dcbfbfd1",
   "metadata": {},
   "outputs": [
    {
     "data": {
      "text/plain": [
       "(234, 11)"
      ]
     },
     "execution_count": 27,
     "metadata": {},
     "output_type": "execute_result"
    }
   ],
   "source": [
    "mpg.shape\n",
    "\n",
    "#234 rows and 11 columns"
   ]
  },
  {
   "cell_type": "markdown",
   "id": "3f326afe",
   "metadata": {},
   "source": [
    "### 8. Check out your column names and perform any cleanup you may want on them."
   ]
  },
  {
   "cell_type": "code",
   "execution_count": 28,
   "id": "d2743519",
   "metadata": {},
   "outputs": [
    {
     "data": {
      "text/plain": [
       "['manufacturer',\n",
       " 'model',\n",
       " 'displ',\n",
       " 'year',\n",
       " 'cyl',\n",
       " 'trans',\n",
       " 'drv',\n",
       " 'cty',\n",
       " 'hwy',\n",
       " 'fl',\n",
       " 'class']"
      ]
     },
     "execution_count": 28,
     "metadata": {},
     "output_type": "execute_result"
    }
   ],
   "source": [
    "#You can use '.tolist()' to convert the output into a formatted list.\n",
    "mpg.columns.tolist()"
   ]
  },
  {
   "cell_type": "code",
   "execution_count": 30,
   "id": "636b3a6a",
   "metadata": {},
   "outputs": [],
   "source": [
    "#Once you have your formatted list, you can then paste that into the process to rename the columns, and change the names as needed.\n",
    "\n",
    "mpg.columns = ['manufacturer',\n",
    " 'model',\n",
    " 'displacement',\n",
    " 'year',\n",
    " 'cylinders',\n",
    " 'transmission',\n",
    " 'drive_type',\n",
    " 'city',\n",
    " 'highway',\n",
    " 'fl',\n",
    " 'class']"
   ]
  },
  {
   "cell_type": "markdown",
   "id": "9b7a3194",
   "metadata": {},
   "source": [
    "### 9. Display the summary statistics for the dataset."
   ]
  },
  {
   "cell_type": "code",
   "execution_count": 31,
   "id": "977b57db",
   "metadata": {},
   "outputs": [
    {
     "data": {
      "text/html": [
       "<div>\n",
       "<style scoped>\n",
       "    .dataframe tbody tr th:only-of-type {\n",
       "        vertical-align: middle;\n",
       "    }\n",
       "\n",
       "    .dataframe tbody tr th {\n",
       "        vertical-align: top;\n",
       "    }\n",
       "\n",
       "    .dataframe thead th {\n",
       "        text-align: right;\n",
       "    }\n",
       "</style>\n",
       "<table border=\"1\" class=\"dataframe\">\n",
       "  <thead>\n",
       "    <tr style=\"text-align: right;\">\n",
       "      <th></th>\n",
       "      <th>displacement</th>\n",
       "      <th>year</th>\n",
       "      <th>cylinders</th>\n",
       "      <th>city</th>\n",
       "      <th>highway</th>\n",
       "    </tr>\n",
       "  </thead>\n",
       "  <tbody>\n",
       "    <tr>\n",
       "      <th>count</th>\n",
       "      <td>234.000000</td>\n",
       "      <td>234.000000</td>\n",
       "      <td>234.000000</td>\n",
       "      <td>234.000000</td>\n",
       "      <td>234.000000</td>\n",
       "    </tr>\n",
       "    <tr>\n",
       "      <th>mean</th>\n",
       "      <td>3.471795</td>\n",
       "      <td>2003.500000</td>\n",
       "      <td>5.888889</td>\n",
       "      <td>16.858974</td>\n",
       "      <td>23.440171</td>\n",
       "    </tr>\n",
       "    <tr>\n",
       "      <th>std</th>\n",
       "      <td>1.291959</td>\n",
       "      <td>4.509646</td>\n",
       "      <td>1.611534</td>\n",
       "      <td>4.255946</td>\n",
       "      <td>5.954643</td>\n",
       "    </tr>\n",
       "    <tr>\n",
       "      <th>min</th>\n",
       "      <td>1.600000</td>\n",
       "      <td>1999.000000</td>\n",
       "      <td>4.000000</td>\n",
       "      <td>9.000000</td>\n",
       "      <td>12.000000</td>\n",
       "    </tr>\n",
       "    <tr>\n",
       "      <th>25%</th>\n",
       "      <td>2.400000</td>\n",
       "      <td>1999.000000</td>\n",
       "      <td>4.000000</td>\n",
       "      <td>14.000000</td>\n",
       "      <td>18.000000</td>\n",
       "    </tr>\n",
       "    <tr>\n",
       "      <th>50%</th>\n",
       "      <td>3.300000</td>\n",
       "      <td>2003.500000</td>\n",
       "      <td>6.000000</td>\n",
       "      <td>17.000000</td>\n",
       "      <td>24.000000</td>\n",
       "    </tr>\n",
       "    <tr>\n",
       "      <th>75%</th>\n",
       "      <td>4.600000</td>\n",
       "      <td>2008.000000</td>\n",
       "      <td>8.000000</td>\n",
       "      <td>19.000000</td>\n",
       "      <td>27.000000</td>\n",
       "    </tr>\n",
       "    <tr>\n",
       "      <th>max</th>\n",
       "      <td>7.000000</td>\n",
       "      <td>2008.000000</td>\n",
       "      <td>8.000000</td>\n",
       "      <td>35.000000</td>\n",
       "      <td>44.000000</td>\n",
       "    </tr>\n",
       "  </tbody>\n",
       "</table>\n",
       "</div>"
      ],
      "text/plain": [
       "       displacement         year   cylinders        city     highway\n",
       "count    234.000000   234.000000  234.000000  234.000000  234.000000\n",
       "mean       3.471795  2003.500000    5.888889   16.858974   23.440171\n",
       "std        1.291959     4.509646    1.611534    4.255946    5.954643\n",
       "min        1.600000  1999.000000    4.000000    9.000000   12.000000\n",
       "25%        2.400000  1999.000000    4.000000   14.000000   18.000000\n",
       "50%        3.300000  2003.500000    6.000000   17.000000   24.000000\n",
       "75%        4.600000  2008.000000    8.000000   19.000000   27.000000\n",
       "max        7.000000  2008.000000    8.000000   35.000000   44.000000"
      ]
     },
     "execution_count": 31,
     "metadata": {},
     "output_type": "execute_result"
    }
   ],
   "source": [
    "mpg.describe()"
   ]
  },
  {
   "cell_type": "markdown",
   "id": "55748f0e",
   "metadata": {},
   "source": [
    "### 10. How many different manufacturers are there?"
   ]
  },
  {
   "cell_type": "code",
   "execution_count": 32,
   "id": "023a60fc",
   "metadata": {},
   "outputs": [
    {
     "data": {
      "text/plain": [
       "15"
      ]
     },
     "execution_count": 32,
     "metadata": {},
     "output_type": "execute_result"
    }
   ],
   "source": [
    "#You can use the '.nunique()' function to count the unique values in the column\n",
    "\n",
    "mpg.manufacturer.nunique()"
   ]
  },
  {
   "cell_type": "markdown",
   "id": "af05953a",
   "metadata": {},
   "source": [
    "### 11. How many different models are there?"
   ]
  },
  {
   "cell_type": "code",
   "execution_count": 33,
   "id": "d4e1f19d",
   "metadata": {},
   "outputs": [
    {
     "data": {
      "text/plain": [
       "38"
      ]
     },
     "execution_count": 33,
     "metadata": {},
     "output_type": "execute_result"
    }
   ],
   "source": [
    "mpg.model.nunique()"
   ]
  },
  {
   "cell_type": "markdown",
   "id": "cc87f2a3",
   "metadata": {},
   "source": [
    "### 12. Create a column named mileage_difference like you did in the DataFrames exercises; this column should contain the difference between highway and city mileage for each car."
   ]
  },
  {
   "cell_type": "code",
   "execution_count": 34,
   "id": "58bca6fb",
   "metadata": {},
   "outputs": [
    {
     "data": {
      "text/html": [
       "<div>\n",
       "<style scoped>\n",
       "    .dataframe tbody tr th:only-of-type {\n",
       "        vertical-align: middle;\n",
       "    }\n",
       "\n",
       "    .dataframe tbody tr th {\n",
       "        vertical-align: top;\n",
       "    }\n",
       "\n",
       "    .dataframe thead th {\n",
       "        text-align: right;\n",
       "    }\n",
       "</style>\n",
       "<table border=\"1\" class=\"dataframe\">\n",
       "  <thead>\n",
       "    <tr style=\"text-align: right;\">\n",
       "      <th></th>\n",
       "      <th>manufacturer</th>\n",
       "      <th>model</th>\n",
       "      <th>displacement</th>\n",
       "      <th>year</th>\n",
       "      <th>cylinders</th>\n",
       "      <th>transmission</th>\n",
       "      <th>drive_type</th>\n",
       "      <th>city</th>\n",
       "      <th>highway</th>\n",
       "      <th>fl</th>\n",
       "      <th>class</th>\n",
       "      <th>mileage_difference</th>\n",
       "    </tr>\n",
       "  </thead>\n",
       "  <tbody>\n",
       "    <tr>\n",
       "      <th>1</th>\n",
       "      <td>audi</td>\n",
       "      <td>a4</td>\n",
       "      <td>1.8</td>\n",
       "      <td>1999</td>\n",
       "      <td>4</td>\n",
       "      <td>auto(l5)</td>\n",
       "      <td>f</td>\n",
       "      <td>18</td>\n",
       "      <td>29</td>\n",
       "      <td>p</td>\n",
       "      <td>compact</td>\n",
       "      <td>11</td>\n",
       "    </tr>\n",
       "    <tr>\n",
       "      <th>2</th>\n",
       "      <td>audi</td>\n",
       "      <td>a4</td>\n",
       "      <td>1.8</td>\n",
       "      <td>1999</td>\n",
       "      <td>4</td>\n",
       "      <td>manual(m5)</td>\n",
       "      <td>f</td>\n",
       "      <td>21</td>\n",
       "      <td>29</td>\n",
       "      <td>p</td>\n",
       "      <td>compact</td>\n",
       "      <td>8</td>\n",
       "    </tr>\n",
       "    <tr>\n",
       "      <th>3</th>\n",
       "      <td>audi</td>\n",
       "      <td>a4</td>\n",
       "      <td>2.0</td>\n",
       "      <td>2008</td>\n",
       "      <td>4</td>\n",
       "      <td>manual(m6)</td>\n",
       "      <td>f</td>\n",
       "      <td>20</td>\n",
       "      <td>31</td>\n",
       "      <td>p</td>\n",
       "      <td>compact</td>\n",
       "      <td>11</td>\n",
       "    </tr>\n",
       "    <tr>\n",
       "      <th>4</th>\n",
       "      <td>audi</td>\n",
       "      <td>a4</td>\n",
       "      <td>2.0</td>\n",
       "      <td>2008</td>\n",
       "      <td>4</td>\n",
       "      <td>auto(av)</td>\n",
       "      <td>f</td>\n",
       "      <td>21</td>\n",
       "      <td>30</td>\n",
       "      <td>p</td>\n",
       "      <td>compact</td>\n",
       "      <td>9</td>\n",
       "    </tr>\n",
       "    <tr>\n",
       "      <th>5</th>\n",
       "      <td>audi</td>\n",
       "      <td>a4</td>\n",
       "      <td>2.8</td>\n",
       "      <td>1999</td>\n",
       "      <td>6</td>\n",
       "      <td>auto(l5)</td>\n",
       "      <td>f</td>\n",
       "      <td>16</td>\n",
       "      <td>26</td>\n",
       "      <td>p</td>\n",
       "      <td>compact</td>\n",
       "      <td>10</td>\n",
       "    </tr>\n",
       "  </tbody>\n",
       "</table>\n",
       "</div>"
      ],
      "text/plain": [
       "  manufacturer model  displacement  year  cylinders transmission drive_type  \\\n",
       "1         audi    a4           1.8  1999          4     auto(l5)          f   \n",
       "2         audi    a4           1.8  1999          4   manual(m5)          f   \n",
       "3         audi    a4           2.0  2008          4   manual(m6)          f   \n",
       "4         audi    a4           2.0  2008          4     auto(av)          f   \n",
       "5         audi    a4           2.8  1999          6     auto(l5)          f   \n",
       "\n",
       "   city  highway fl    class  mileage_difference  \n",
       "1    18       29  p  compact                  11  \n",
       "2    21       29  p  compact                   8  \n",
       "3    20       31  p  compact                  11  \n",
       "4    21       30  p  compact                   9  \n",
       "5    16       26  p  compact                  10  "
      ]
     },
     "execution_count": 34,
     "metadata": {},
     "output_type": "execute_result"
    }
   ],
   "source": [
    "mpg['mileage_difference'] = mpg.highway - mpg.city\n",
    "\n",
    "mpg.head()"
   ]
  },
  {
   "cell_type": "markdown",
   "id": "f5c87a54",
   "metadata": {},
   "source": [
    "### 13. Create a column named average_mileage like you did in the DataFrames exercises; this is the mean of the city and highway mileage."
   ]
  },
  {
   "cell_type": "code",
   "execution_count": 35,
   "id": "93aa7fc5",
   "metadata": {},
   "outputs": [
    {
     "data": {
      "text/html": [
       "<div>\n",
       "<style scoped>\n",
       "    .dataframe tbody tr th:only-of-type {\n",
       "        vertical-align: middle;\n",
       "    }\n",
       "\n",
       "    .dataframe tbody tr th {\n",
       "        vertical-align: top;\n",
       "    }\n",
       "\n",
       "    .dataframe thead th {\n",
       "        text-align: right;\n",
       "    }\n",
       "</style>\n",
       "<table border=\"1\" class=\"dataframe\">\n",
       "  <thead>\n",
       "    <tr style=\"text-align: right;\">\n",
       "      <th></th>\n",
       "      <th>manufacturer</th>\n",
       "      <th>model</th>\n",
       "      <th>displacement</th>\n",
       "      <th>year</th>\n",
       "      <th>cylinders</th>\n",
       "      <th>transmission</th>\n",
       "      <th>drive_type</th>\n",
       "      <th>city</th>\n",
       "      <th>highway</th>\n",
       "      <th>fl</th>\n",
       "      <th>class</th>\n",
       "      <th>mileage_difference</th>\n",
       "      <th>average_mileage</th>\n",
       "    </tr>\n",
       "  </thead>\n",
       "  <tbody>\n",
       "    <tr>\n",
       "      <th>1</th>\n",
       "      <td>audi</td>\n",
       "      <td>a4</td>\n",
       "      <td>1.8</td>\n",
       "      <td>1999</td>\n",
       "      <td>4</td>\n",
       "      <td>auto(l5)</td>\n",
       "      <td>f</td>\n",
       "      <td>18</td>\n",
       "      <td>29</td>\n",
       "      <td>p</td>\n",
       "      <td>compact</td>\n",
       "      <td>11</td>\n",
       "      <td>23.5</td>\n",
       "    </tr>\n",
       "    <tr>\n",
       "      <th>2</th>\n",
       "      <td>audi</td>\n",
       "      <td>a4</td>\n",
       "      <td>1.8</td>\n",
       "      <td>1999</td>\n",
       "      <td>4</td>\n",
       "      <td>manual(m5)</td>\n",
       "      <td>f</td>\n",
       "      <td>21</td>\n",
       "      <td>29</td>\n",
       "      <td>p</td>\n",
       "      <td>compact</td>\n",
       "      <td>8</td>\n",
       "      <td>25.0</td>\n",
       "    </tr>\n",
       "    <tr>\n",
       "      <th>3</th>\n",
       "      <td>audi</td>\n",
       "      <td>a4</td>\n",
       "      <td>2.0</td>\n",
       "      <td>2008</td>\n",
       "      <td>4</td>\n",
       "      <td>manual(m6)</td>\n",
       "      <td>f</td>\n",
       "      <td>20</td>\n",
       "      <td>31</td>\n",
       "      <td>p</td>\n",
       "      <td>compact</td>\n",
       "      <td>11</td>\n",
       "      <td>25.5</td>\n",
       "    </tr>\n",
       "    <tr>\n",
       "      <th>4</th>\n",
       "      <td>audi</td>\n",
       "      <td>a4</td>\n",
       "      <td>2.0</td>\n",
       "      <td>2008</td>\n",
       "      <td>4</td>\n",
       "      <td>auto(av)</td>\n",
       "      <td>f</td>\n",
       "      <td>21</td>\n",
       "      <td>30</td>\n",
       "      <td>p</td>\n",
       "      <td>compact</td>\n",
       "      <td>9</td>\n",
       "      <td>25.5</td>\n",
       "    </tr>\n",
       "    <tr>\n",
       "      <th>5</th>\n",
       "      <td>audi</td>\n",
       "      <td>a4</td>\n",
       "      <td>2.8</td>\n",
       "      <td>1999</td>\n",
       "      <td>6</td>\n",
       "      <td>auto(l5)</td>\n",
       "      <td>f</td>\n",
       "      <td>16</td>\n",
       "      <td>26</td>\n",
       "      <td>p</td>\n",
       "      <td>compact</td>\n",
       "      <td>10</td>\n",
       "      <td>21.0</td>\n",
       "    </tr>\n",
       "  </tbody>\n",
       "</table>\n",
       "</div>"
      ],
      "text/plain": [
       "  manufacturer model  displacement  year  cylinders transmission drive_type  \\\n",
       "1         audi    a4           1.8  1999          4     auto(l5)          f   \n",
       "2         audi    a4           1.8  1999          4   manual(m5)          f   \n",
       "3         audi    a4           2.0  2008          4   manual(m6)          f   \n",
       "4         audi    a4           2.0  2008          4     auto(av)          f   \n",
       "5         audi    a4           2.8  1999          6     auto(l5)          f   \n",
       "\n",
       "   city  highway fl    class  mileage_difference  average_mileage  \n",
       "1    18       29  p  compact                  11             23.5  \n",
       "2    21       29  p  compact                   8             25.0  \n",
       "3    20       31  p  compact                  11             25.5  \n",
       "4    21       30  p  compact                   9             25.5  \n",
       "5    16       26  p  compact                  10             21.0  "
      ]
     },
     "execution_count": 35,
     "metadata": {},
     "output_type": "execute_result"
    }
   ],
   "source": [
    "mpg['average_mileage'] = (mpg.highway + mpg.city) / 2\n",
    "\n",
    "mpg.head()"
   ]
  },
  {
   "cell_type": "markdown",
   "id": "b6d7c40b",
   "metadata": {},
   "source": [
    "### 14. Create a new column on the mpg dataset named is_automatic that holds boolean values denoting whether the car has an automatic transmission."
   ]
  },
  {
   "cell_type": "code",
   "execution_count": 36,
   "id": "5830f67f",
   "metadata": {},
   "outputs": [
    {
     "data": {
      "text/plain": [
       "array(['auto(l5)', 'manual(m5)', 'manual(m6)', 'auto(av)', 'auto(s6)',\n",
       "       'auto(l4)', 'auto(l3)', 'auto(l6)', 'auto(s5)', 'auto(s4)'],\n",
       "      dtype=object)"
      ]
     },
     "execution_count": 36,
     "metadata": {},
     "output_type": "execute_result"
    }
   ],
   "source": [
    "#Check the values in the 'transmission' column to see what I'm working with.\n",
    "\n",
    "mpg.transmission.unique()"
   ]
  },
  {
   "cell_type": "code",
   "execution_count": 37,
   "id": "b4e16531",
   "metadata": {},
   "outputs": [
    {
     "data": {
      "text/html": [
       "<div>\n",
       "<style scoped>\n",
       "    .dataframe tbody tr th:only-of-type {\n",
       "        vertical-align: middle;\n",
       "    }\n",
       "\n",
       "    .dataframe tbody tr th {\n",
       "        vertical-align: top;\n",
       "    }\n",
       "\n",
       "    .dataframe thead th {\n",
       "        text-align: right;\n",
       "    }\n",
       "</style>\n",
       "<table border=\"1\" class=\"dataframe\">\n",
       "  <thead>\n",
       "    <tr style=\"text-align: right;\">\n",
       "      <th></th>\n",
       "      <th>manufacturer</th>\n",
       "      <th>model</th>\n",
       "      <th>displacement</th>\n",
       "      <th>year</th>\n",
       "      <th>cylinders</th>\n",
       "      <th>transmission</th>\n",
       "      <th>drive_type</th>\n",
       "      <th>city</th>\n",
       "      <th>highway</th>\n",
       "      <th>fl</th>\n",
       "      <th>class</th>\n",
       "      <th>mileage_difference</th>\n",
       "      <th>average_mileage</th>\n",
       "      <th>is_automatic</th>\n",
       "    </tr>\n",
       "  </thead>\n",
       "  <tbody>\n",
       "    <tr>\n",
       "      <th>1</th>\n",
       "      <td>audi</td>\n",
       "      <td>a4</td>\n",
       "      <td>1.8</td>\n",
       "      <td>1999</td>\n",
       "      <td>4</td>\n",
       "      <td>auto(l5)</td>\n",
       "      <td>f</td>\n",
       "      <td>18</td>\n",
       "      <td>29</td>\n",
       "      <td>p</td>\n",
       "      <td>compact</td>\n",
       "      <td>11</td>\n",
       "      <td>23.5</td>\n",
       "      <td>True</td>\n",
       "    </tr>\n",
       "    <tr>\n",
       "      <th>2</th>\n",
       "      <td>audi</td>\n",
       "      <td>a4</td>\n",
       "      <td>1.8</td>\n",
       "      <td>1999</td>\n",
       "      <td>4</td>\n",
       "      <td>manual(m5)</td>\n",
       "      <td>f</td>\n",
       "      <td>21</td>\n",
       "      <td>29</td>\n",
       "      <td>p</td>\n",
       "      <td>compact</td>\n",
       "      <td>8</td>\n",
       "      <td>25.0</td>\n",
       "      <td>False</td>\n",
       "    </tr>\n",
       "    <tr>\n",
       "      <th>3</th>\n",
       "      <td>audi</td>\n",
       "      <td>a4</td>\n",
       "      <td>2.0</td>\n",
       "      <td>2008</td>\n",
       "      <td>4</td>\n",
       "      <td>manual(m6)</td>\n",
       "      <td>f</td>\n",
       "      <td>20</td>\n",
       "      <td>31</td>\n",
       "      <td>p</td>\n",
       "      <td>compact</td>\n",
       "      <td>11</td>\n",
       "      <td>25.5</td>\n",
       "      <td>False</td>\n",
       "    </tr>\n",
       "    <tr>\n",
       "      <th>4</th>\n",
       "      <td>audi</td>\n",
       "      <td>a4</td>\n",
       "      <td>2.0</td>\n",
       "      <td>2008</td>\n",
       "      <td>4</td>\n",
       "      <td>auto(av)</td>\n",
       "      <td>f</td>\n",
       "      <td>21</td>\n",
       "      <td>30</td>\n",
       "      <td>p</td>\n",
       "      <td>compact</td>\n",
       "      <td>9</td>\n",
       "      <td>25.5</td>\n",
       "      <td>True</td>\n",
       "    </tr>\n",
       "    <tr>\n",
       "      <th>5</th>\n",
       "      <td>audi</td>\n",
       "      <td>a4</td>\n",
       "      <td>2.8</td>\n",
       "      <td>1999</td>\n",
       "      <td>6</td>\n",
       "      <td>auto(l5)</td>\n",
       "      <td>f</td>\n",
       "      <td>16</td>\n",
       "      <td>26</td>\n",
       "      <td>p</td>\n",
       "      <td>compact</td>\n",
       "      <td>10</td>\n",
       "      <td>21.0</td>\n",
       "      <td>True</td>\n",
       "    </tr>\n",
       "  </tbody>\n",
       "</table>\n",
       "</div>"
      ],
      "text/plain": [
       "  manufacturer model  displacement  year  cylinders transmission drive_type  \\\n",
       "1         audi    a4           1.8  1999          4     auto(l5)          f   \n",
       "2         audi    a4           1.8  1999          4   manual(m5)          f   \n",
       "3         audi    a4           2.0  2008          4   manual(m6)          f   \n",
       "4         audi    a4           2.0  2008          4     auto(av)          f   \n",
       "5         audi    a4           2.8  1999          6     auto(l5)          f   \n",
       "\n",
       "   city  highway fl    class  mileage_difference  average_mileage  \\\n",
       "1    18       29  p  compact                  11             23.5   \n",
       "2    21       29  p  compact                   8             25.0   \n",
       "3    20       31  p  compact                  11             25.5   \n",
       "4    21       30  p  compact                   9             25.5   \n",
       "5    16       26  p  compact                  10             21.0   \n",
       "\n",
       "   is_automatic  \n",
       "1          True  \n",
       "2         False  \n",
       "3         False  \n",
       "4          True  \n",
       "5          True  "
      ]
     },
     "execution_count": 37,
     "metadata": {},
     "output_type": "execute_result"
    }
   ],
   "source": [
    "#create a new column called 'is_automatic'\n",
    "\n",
    "mpg['is_automatic'] = mpg.transmission.str.contains('auto')\n",
    "\n",
    "mpg.head()"
   ]
  },
  {
   "cell_type": "markdown",
   "id": "5b519b89",
   "metadata": {},
   "source": [
    "### 15. Using the mpg dataset, find out which which manufacturer has the best miles per gallon on average?"
   ]
  },
  {
   "cell_type": "code",
   "execution_count": 40,
   "id": "c6ae5fdd",
   "metadata": {},
   "outputs": [
    {
     "data": {
      "text/plain": [
       "manufacturer\n",
       "honda    28.5\n",
       "Name: average_mileage, dtype: float64"
      ]
     },
     "execution_count": 40,
     "metadata": {},
     "output_type": "execute_result"
    }
   ],
   "source": [
    "#Here we can use a groupby and aggregation to sort the values.\n",
    "\n",
    "mpg.groupby('manufacturer').average_mileage.mean().sort_values(ascending = False).head(1)"
   ]
  },
  {
   "cell_type": "markdown",
   "id": "a3f2302a",
   "metadata": {},
   "source": [
    "### 16. Do automatic or manual cars have better miles per gallon?"
   ]
  },
  {
   "cell_type": "code",
   "execution_count": 46,
   "id": "0a7db17c",
   "metadata": {},
   "outputs": [
    {
     "data": {
      "text/html": [
       "<div>\n",
       "<style scoped>\n",
       "    .dataframe tbody tr th:only-of-type {\n",
       "        vertical-align: middle;\n",
       "    }\n",
       "\n",
       "    .dataframe tbody tr th {\n",
       "        vertical-align: top;\n",
       "    }\n",
       "\n",
       "    .dataframe thead th {\n",
       "        text-align: right;\n",
       "    }\n",
       "</style>\n",
       "<table border=\"1\" class=\"dataframe\">\n",
       "  <thead>\n",
       "    <tr style=\"text-align: right;\">\n",
       "      <th></th>\n",
       "      <th>average_mileage</th>\n",
       "    </tr>\n",
       "    <tr>\n",
       "      <th>transmission_category</th>\n",
       "      <th></th>\n",
       "    </tr>\n",
       "  </thead>\n",
       "  <tbody>\n",
       "    <tr>\n",
       "      <th>automatic</th>\n",
       "      <td>19.1</td>\n",
       "    </tr>\n",
       "    <tr>\n",
       "      <th>manual</th>\n",
       "      <td>22.2</td>\n",
       "    </tr>\n",
       "  </tbody>\n",
       "</table>\n",
       "</div>"
      ],
      "text/plain": [
       "                       average_mileage\n",
       "transmission_category                 \n",
       "automatic                         19.1\n",
       "manual                            22.2"
      ]
     },
     "execution_count": 46,
     "metadata": {},
     "output_type": "execute_result"
    }
   ],
   "source": [
    "#create a new column transmission_category using np.where\n",
    "\n",
    "mpg['transmission_category'] = np.where(mpg.transmission.str.contains('auto'), 'automatic', 'manual')\n",
    "\n",
    "mpg.groupby('transmission_category').average_mileage.mean().sort_values(ascending = False)\n",
    "\n",
    "mpg.groupby('transmission_category')[['average_mileage']].mean().round(1)"
   ]
  },
  {
   "cell_type": "markdown",
   "id": "19e5f1b6",
   "metadata": {},
   "source": [
    "# Exercises III"
   ]
  },
  {
   "cell_type": "markdown",
   "id": "57681f7d",
   "metadata": {},
   "source": [
    "### 1. Use your get_db_url function to help you explore the data from the chipotle database."
   ]
  },
  {
   "cell_type": "code",
   "execution_count": 47,
   "id": "52e4ede2",
   "metadata": {},
   "outputs": [
    {
     "name": "stderr",
     "output_type": "stream",
     "text": [
      "/var/folders/dk/lzs3plw14ms00nxw2vwq68vc0000gn/T/ipykernel_18425/619104969.py:7: FutureWarning: The default value of regex will change from True to False in a future version. In addition, single character regular expressions will *not* be treated as literal strings when regex=True.\n",
      "  chipotle['item_price'] = chipotle.item_price.str.replace('$', '').astype(float)\n"
     ]
    },
    {
     "data": {
      "text/html": [
       "<div>\n",
       "<style scoped>\n",
       "    .dataframe tbody tr th:only-of-type {\n",
       "        vertical-align: middle;\n",
       "    }\n",
       "\n",
       "    .dataframe tbody tr th {\n",
       "        vertical-align: top;\n",
       "    }\n",
       "\n",
       "    .dataframe thead th {\n",
       "        text-align: right;\n",
       "    }\n",
       "</style>\n",
       "<table border=\"1\" class=\"dataframe\">\n",
       "  <thead>\n",
       "    <tr style=\"text-align: right;\">\n",
       "      <th></th>\n",
       "      <th>id</th>\n",
       "      <th>order_id</th>\n",
       "      <th>quantity</th>\n",
       "      <th>item_name</th>\n",
       "      <th>choice_description</th>\n",
       "      <th>item_price</th>\n",
       "    </tr>\n",
       "  </thead>\n",
       "  <tbody>\n",
       "    <tr>\n",
       "      <th>0</th>\n",
       "      <td>1</td>\n",
       "      <td>1</td>\n",
       "      <td>1</td>\n",
       "      <td>Chips and Fresh Tomato Salsa</td>\n",
       "      <td>nan</td>\n",
       "      <td>2.39</td>\n",
       "    </tr>\n",
       "    <tr>\n",
       "      <th>1</th>\n",
       "      <td>2</td>\n",
       "      <td>1</td>\n",
       "      <td>1</td>\n",
       "      <td>Izze</td>\n",
       "      <td>[Clementine]</td>\n",
       "      <td>3.39</td>\n",
       "    </tr>\n",
       "    <tr>\n",
       "      <th>2</th>\n",
       "      <td>3</td>\n",
       "      <td>1</td>\n",
       "      <td>1</td>\n",
       "      <td>Nantucket Nectar</td>\n",
       "      <td>[Apple]</td>\n",
       "      <td>3.39</td>\n",
       "    </tr>\n",
       "    <tr>\n",
       "      <th>3</th>\n",
       "      <td>4</td>\n",
       "      <td>1</td>\n",
       "      <td>1</td>\n",
       "      <td>Chips and Tomatillo-Green Chili Salsa</td>\n",
       "      <td>nan</td>\n",
       "      <td>2.39</td>\n",
       "    </tr>\n",
       "    <tr>\n",
       "      <th>4</th>\n",
       "      <td>5</td>\n",
       "      <td>2</td>\n",
       "      <td>2</td>\n",
       "      <td>Chicken Bowl</td>\n",
       "      <td>[Tomatillo-Red Chili Salsa (Hot), [Black Beans, Rice, Cheese, Sour Cream]]</td>\n",
       "      <td>16.98</td>\n",
       "    </tr>\n",
       "    <tr>\n",
       "      <th>...</th>\n",
       "      <td>...</td>\n",
       "      <td>...</td>\n",
       "      <td>...</td>\n",
       "      <td>...</td>\n",
       "      <td>...</td>\n",
       "      <td>...</td>\n",
       "    </tr>\n",
       "    <tr>\n",
       "      <th>4617</th>\n",
       "      <td>4618</td>\n",
       "      <td>1833</td>\n",
       "      <td>1</td>\n",
       "      <td>Steak Burrito</td>\n",
       "      <td>[Fresh Tomato Salsa, [Rice, Black Beans, Sour Cream, Cheese, Lettuce, Guacamole]]</td>\n",
       "      <td>11.75</td>\n",
       "    </tr>\n",
       "    <tr>\n",
       "      <th>4618</th>\n",
       "      <td>4619</td>\n",
       "      <td>1833</td>\n",
       "      <td>1</td>\n",
       "      <td>Steak Burrito</td>\n",
       "      <td>[Fresh Tomato Salsa, [Rice, Sour Cream, Cheese, Lettuce, Guacamole]]</td>\n",
       "      <td>11.75</td>\n",
       "    </tr>\n",
       "    <tr>\n",
       "      <th>4619</th>\n",
       "      <td>4620</td>\n",
       "      <td>1834</td>\n",
       "      <td>1</td>\n",
       "      <td>Chicken Salad Bowl</td>\n",
       "      <td>[Fresh Tomato Salsa, [Fajita Vegetables, Pinto Beans, Guacamole, Lettuce]]</td>\n",
       "      <td>11.25</td>\n",
       "    </tr>\n",
       "    <tr>\n",
       "      <th>4620</th>\n",
       "      <td>4621</td>\n",
       "      <td>1834</td>\n",
       "      <td>1</td>\n",
       "      <td>Chicken Salad Bowl</td>\n",
       "      <td>[Fresh Tomato Salsa, [Fajita Vegetables, Lettuce]]</td>\n",
       "      <td>8.75</td>\n",
       "    </tr>\n",
       "    <tr>\n",
       "      <th>4621</th>\n",
       "      <td>4622</td>\n",
       "      <td>1834</td>\n",
       "      <td>1</td>\n",
       "      <td>Chicken Salad Bowl</td>\n",
       "      <td>[Fresh Tomato Salsa, [Fajita Vegetables, Pinto Beans, Lettuce]]</td>\n",
       "      <td>8.75</td>\n",
       "    </tr>\n",
       "  </tbody>\n",
       "</table>\n",
       "<p>4622 rows × 6 columns</p>\n",
       "</div>"
      ],
      "text/plain": [
       "        id  order_id  quantity                              item_name  \\\n",
       "0        1         1         1           Chips and Fresh Tomato Salsa   \n",
       "1        2         1         1                                   Izze   \n",
       "2        3         1         1                       Nantucket Nectar   \n",
       "3        4         1         1  Chips and Tomatillo-Green Chili Salsa   \n",
       "4        5         2         2                           Chicken Bowl   \n",
       "...    ...       ...       ...                                    ...   \n",
       "4617  4618      1833         1                          Steak Burrito   \n",
       "4618  4619      1833         1                          Steak Burrito   \n",
       "4619  4620      1834         1                     Chicken Salad Bowl   \n",
       "4620  4621      1834         1                     Chicken Salad Bowl   \n",
       "4621  4622      1834         1                     Chicken Salad Bowl   \n",
       "\n",
       "                                                                     choice_description  \\\n",
       "0                                                                                   nan   \n",
       "1                                                                          [Clementine]   \n",
       "2                                                                               [Apple]   \n",
       "3                                                                                   nan   \n",
       "4            [Tomatillo-Red Chili Salsa (Hot), [Black Beans, Rice, Cheese, Sour Cream]]   \n",
       "...                                                                                 ...   \n",
       "4617  [Fresh Tomato Salsa, [Rice, Black Beans, Sour Cream, Cheese, Lettuce, Guacamole]]   \n",
       "4618               [Fresh Tomato Salsa, [Rice, Sour Cream, Cheese, Lettuce, Guacamole]]   \n",
       "4619         [Fresh Tomato Salsa, [Fajita Vegetables, Pinto Beans, Guacamole, Lettuce]]   \n",
       "4620                                 [Fresh Tomato Salsa, [Fajita Vegetables, Lettuce]]   \n",
       "4621                    [Fresh Tomato Salsa, [Fajita Vegetables, Pinto Beans, Lettuce]]   \n",
       "\n",
       "      item_price  \n",
       "0           2.39  \n",
       "1           3.39  \n",
       "2           3.39  \n",
       "3           2.39  \n",
       "4          16.98  \n",
       "...          ...  \n",
       "4617       11.75  \n",
       "4618       11.75  \n",
       "4619       11.25  \n",
       "4620        8.75  \n",
       "4621        8.75  \n",
       "\n",
       "[4622 rows x 6 columns]"
      ]
     },
     "execution_count": 47,
     "metadata": {},
     "output_type": "execute_result"
    }
   ],
   "source": [
    "url = get_db_url('chipotle')\n",
    "\n",
    "chipotle = pd.read_sql('SELECT * FROM orders', url)\n",
    "\n",
    "chipotle\n",
    "\n",
    "chipotle['item_price'] = chipotle.item_price.str.replace('$', '').astype(float)\n",
    "\n",
    "chipotle"
   ]
  },
  {
   "cell_type": "markdown",
   "id": "4cc5a71e",
   "metadata": {},
   "source": [
    "### 2. What is the total price for each order?"
   ]
  },
  {
   "cell_type": "code",
   "execution_count": 48,
   "id": "3e8c1060",
   "metadata": {},
   "outputs": [
    {
     "data": {
      "text/plain": [
       "order_id\n",
       "1       11.56\n",
       "2       16.98\n",
       "3       12.67\n",
       "4       21.00\n",
       "5       13.70\n",
       "        ...  \n",
       "1830    23.00\n",
       "1831    12.90\n",
       "1832    13.20\n",
       "1833    23.50\n",
       "1834    28.75\n",
       "Name: item_price, Length: 1834, dtype: float64"
      ]
     },
     "execution_count": 48,
     "metadata": {},
     "output_type": "execute_result"
    }
   ],
   "source": [
    "chipotle_orders = chipotle.groupby('order_id').item_price.sum()\n",
    "\n",
    "chipotle_orders"
   ]
  },
  {
   "cell_type": "markdown",
   "id": "32ff6c51",
   "metadata": {},
   "source": [
    "### 3. What are the most popular 3 items?"
   ]
  },
  {
   "cell_type": "code",
   "execution_count": 53,
   "id": "00b9fb63",
   "metadata": {},
   "outputs": [
    {
     "data": {
      "text/plain": [
       "item_name\n",
       "Chicken Bowl           761\n",
       "Chicken Burrito        591\n",
       "Chips and Guacamole    506\n",
       "Name: quantity, dtype: int64"
      ]
     },
     "execution_count": 53,
     "metadata": {},
     "output_type": "execute_result"
    }
   ],
   "source": [
    "most_popular = chipotle[['item_name', 'quantity']].groupby('item_name').quantity.sum().sort_values(ascending = False).head(3)\n",
    "\n",
    "most_popular"
   ]
  },
  {
   "cell_type": "markdown",
   "id": "ab0cac0c",
   "metadata": {},
   "source": [
    "### 4. Which item has produced the most revenue?"
   ]
  },
  {
   "cell_type": "code",
   "execution_count": null,
   "id": "8a3658ef",
   "metadata": {},
   "outputs": [],
   "source": [
    "most_revenue = chipotle[['item_name', 'item_price']].groupby('item_name').item_price.sum().sort_values(ascending = False).head(1)\n",
    "\n",
    "most_revenue"
   ]
  },
  {
   "cell_type": "markdown",
   "id": "8fd878af",
   "metadata": {},
   "source": [
    "### 5. Join the employees and titles DataFrames together."
   ]
  },
  {
   "cell_type": "code",
   "execution_count": null,
   "id": "b8ee2497",
   "metadata": {},
   "outputs": [],
   "source": [
    "employees_and_titles = df_employees.merge(df_titles,\n",
    "                        left_on = 'emp_no',\n",
    "                        right_on = 'emp_no',\n",
    "                        how = 'right', \n",
    "                        indicator = True)\n",
    "\n",
    "employees_and_titles"
   ]
  },
  {
   "cell_type": "code",
   "execution_count": null,
   "id": "6ad7376c",
   "metadata": {},
   "outputs": [],
   "source": [
    "#Side tangent with Ryan that will make little sense to anyone but me, but I still want to keep this for reference:\n",
    "pd.read_sql('SELECT DISTINCT TABLE_SCHEMA FROM information_schema.tables',url).T"
   ]
  },
  {
   "cell_type": "markdown",
   "id": "e789b543",
   "metadata": {},
   "source": [
    "### 6. For each title, find the hire date of the employee that was hired most recently with that title."
   ]
  },
  {
   "cell_type": "code",
   "execution_count": null,
   "id": "5933ea12",
   "metadata": {},
   "outputs": [],
   "source": [
    "#employees_and_titles[['title', 'hire_date']].groupby('title').hire_date.max()\n",
    "\n",
    "employees_and_titles.groupby('title')[['hire_date']].max()"
   ]
  },
  {
   "cell_type": "markdown",
   "id": "8e782ca3",
   "metadata": {},
   "source": [
    "### 7. Write the code necessary to create a cross tabulation of the number of titles by department. (Hint: this will involve a combination of SQL code to pull the necessary data and python/pandas code to perform the manipulations.)"
   ]
  },
  {
   "cell_type": "code",
   "execution_count": null,
   "id": "40455695",
   "metadata": {},
   "outputs": [],
   "source": [
    "url = get_db_url('employees')\n",
    "\n",
    "dept_emp = pd.read_sql('SELECT * FROM dept_emp', url)\n",
    "\n",
    "dept_emp"
   ]
  },
  {
   "cell_type": "code",
   "execution_count": null,
   "id": "2c1badb8",
   "metadata": {},
   "outputs": [],
   "source": [
    "departments = pd.read_sql('SELECT * FROM departments', url)\n",
    "\n",
    "departments"
   ]
  },
  {
   "cell_type": "code",
   "execution_count": null,
   "id": "392b748c",
   "metadata": {},
   "outputs": [],
   "source": [
    "dept_and_dept_emp = departments.merge(dept_emp, \n",
    "                  left_on = 'dept_no', \n",
    "                  right_on = 'dept_no', \n",
    "                  how = \"left\",\n",
    "                  indicator = True)\n",
    "\n",
    "dept_and_dept_emp"
   ]
  },
  {
   "cell_type": "code",
   "execution_count": null,
   "id": "3fc59062",
   "metadata": {
    "scrolled": true
   },
   "outputs": [],
   "source": [
    "dept_and_titles = dept_and_dept_emp.merge(df_titles, \n",
    "                       left_on = 'emp_no', \n",
    "                       right_on = 'emp_no', \n",
    "                       how = 'left')\n",
    "\n",
    "dept_and_titles"
   ]
  },
  {
   "cell_type": "code",
   "execution_count": null,
   "id": "5277c85a",
   "metadata": {
    "scrolled": true
   },
   "outputs": [],
   "source": [
    "pd.crosstab(dept_and_titles.title, dept_and_titles.dept_name, margins = True)\n",
    "\n",
    "#It would be worthwhile to go back and eliminate duplicates by setting the output to current date. As it sits here, if a person has held multiple titles. they will be accounted for multiple times. My numbers are therefore too high. "
   ]
  }
 ],
 "metadata": {
  "kernelspec": {
   "display_name": "Python 3 (ipykernel)",
   "language": "python",
   "name": "python3"
  },
  "language_info": {
   "codemirror_mode": {
    "name": "ipython",
    "version": 3
   },
   "file_extension": ".py",
   "mimetype": "text/x-python",
   "name": "python",
   "nbconvert_exporter": "python",
   "pygments_lexer": "ipython3",
   "version": "3.9.7"
  }
 },
 "nbformat": 4,
 "nbformat_minor": 5
}
