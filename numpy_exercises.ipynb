{
 "cells": [
  {
   "cell_type": "code",
   "execution_count": 1,
   "id": "80fcc028",
   "metadata": {},
   "outputs": [],
   "source": [
    "import numpy as np"
   ]
  },
  {
   "cell_type": "markdown",
   "id": "03d7054f",
   "metadata": {},
   "source": [
    "# Exercises!\n",
    "\n",
    "In your numpy-pandas-visualization-exercises repo, create a file named `numpy_exercises.py` for this exercise.\n",
    "\n",
    "Use the following code for the questions below:"
   ]
  },
  {
   "cell_type": "code",
   "execution_count": 71,
   "id": "3f7d5142",
   "metadata": {},
   "outputs": [],
   "source": [
    "a = np.array([4, 10, 12, 23, -2, -1, 0, 0, 0, -6, 3, -7])"
   ]
  },
  {
   "cell_type": "markdown",
   "id": "40195dfc",
   "metadata": {},
   "source": [
    "### 1. How many negative numbers are there?"
   ]
  },
  {
   "cell_type": "code",
   "execution_count": 76,
   "id": "f479186b",
   "metadata": {},
   "outputs": [
    {
     "data": {
      "text/plain": [
       "4"
      ]
     },
     "execution_count": 76,
     "metadata": {},
     "output_type": "execute_result"
    }
   ],
   "source": [
    "a_negative = a[a < 0]\n",
    "\n",
    "a_negative.size"
   ]
  },
  {
   "cell_type": "markdown",
   "id": "433d3f19",
   "metadata": {},
   "source": [
    "### 2. How many positive numbers are there?"
   ]
  },
  {
   "cell_type": "code",
   "execution_count": 77,
   "id": "a44bbf18",
   "metadata": {},
   "outputs": [
    {
     "data": {
      "text/plain": [
       "5"
      ]
     },
     "execution_count": 77,
     "metadata": {},
     "output_type": "execute_result"
    }
   ],
   "source": [
    "a_positive = a[a > 0]\n",
    "\n",
    "a_positive.size\n",
    "#copy this same format to the later cells to get rid of the len() based solutions. \n",
    "#The size tool will return the number of elements in the array *REGARDLESS OF NESTING*. Len will not do that if there are nested lists, as it will only go one layer deep."
   ]
  },
  {
   "cell_type": "markdown",
   "id": "cc29edad",
   "metadata": {},
   "source": [
    "### 3. How many even positive numbers are there?"
   ]
  },
  {
   "cell_type": "code",
   "execution_count": 80,
   "id": "424f30ea",
   "metadata": {},
   "outputs": [
    {
     "data": {
      "text/plain": [
       "3"
      ]
     },
     "execution_count": 80,
     "metadata": {},
     "output_type": "execute_result"
    }
   ],
   "source": [
    "#Why does this work with parentheses, but not without?\n",
    "\n",
    "pos_and_even = a[(a > 0) & (a % 2 == 0)]\n",
    "pos_and_even.size"
   ]
  },
  {
   "cell_type": "markdown",
   "id": "5ac932b2",
   "metadata": {},
   "source": [
    "### 4. If you were to add 3 to each data point, how many positive numbers would there be?"
   ]
  },
  {
   "cell_type": "code",
   "execution_count": 81,
   "id": "27a1aabb",
   "metadata": {},
   "outputs": [
    {
     "data": {
      "text/plain": [
       "10"
      ]
     },
     "execution_count": 81,
     "metadata": {},
     "output_type": "execute_result"
    }
   ],
   "source": [
    "add_three = a + 3\n",
    "\n",
    "#now that I've generated the new array with 3 added, I need to select the values that are positive.\n",
    "add_three[add_three > 0]\n",
    "#Then I can add the '.size' to return the number of values\n",
    "add_three[add_three > 0].size\n",
    "\n",
    "#Adam mentioned that it is likely best to do this step-by-step for the sake of legibility."
   ]
  },
  {
   "cell_type": "markdown",
   "id": "323c830e",
   "metadata": {},
   "source": [
    "### 5. If you squared each number, what would the new mean and standard deviation be?"
   ]
  },
  {
   "cell_type": "code",
   "execution_count": 7,
   "id": "477df52b",
   "metadata": {},
   "outputs": [
    {
     "name": "stdout",
     "output_type": "stream",
     "text": [
      "144.0243035046516\n",
      "74.0\n"
     ]
    }
   ],
   "source": [
    "a_square = a ** 2\n",
    "\n",
    "print(a_square.std())\n",
    "print(a_square.mean())"
   ]
  },
  {
   "cell_type": "markdown",
   "id": "b59f9474",
   "metadata": {},
   "source": [
    "### 6. A common statistical operation on a dataset is centering. This means to adjust the data such that the mean of the data is 0. This is done by subtracting the mean from each data point. Center the data set. See [this link](https://www.theanalysisfactor.com/centering-and-standardizing-predictors/) for more on centering."
   ]
  },
  {
   "cell_type": "code",
   "execution_count": 8,
   "id": "1a86b01a",
   "metadata": {},
   "outputs": [
    {
     "data": {
      "text/plain": [
       "array([  1.,   7.,   9.,  20.,  -5.,  -4.,  -3.,  -3.,  -3.,  -9.,   0.,\n",
       "       -10.])"
      ]
     },
     "execution_count": 8,
     "metadata": {},
     "output_type": "execute_result"
    }
   ],
   "source": [
    "centered = a - a.mean()\n",
    "\n",
    "centered"
   ]
  },
  {
   "cell_type": "markdown",
   "id": "73754ba2",
   "metadata": {},
   "source": [
    "### 7. Calculate the z-score for each data point. "
   ]
  },
  {
   "cell_type": "code",
   "execution_count": 9,
   "id": "cda40e15",
   "metadata": {},
   "outputs": [],
   "source": [
    "#I wanted to try writing a function for this, to see if it would be possible. In real world work, it may save time and effort to define a function that can calculate this on arrays, rather than typing it out each time. \n",
    "# I asked Ryan whether it would be possible to creaete a method for arrays and be able to call something like array.z() in order to have this run automatically. He didn't know off the top of his head how to do that, so I need to do some digging.\n",
    "\n",
    "def z(array):\n",
    "    return ((array - array.mean())/array.std())"
   ]
  },
  {
   "cell_type": "code",
   "execution_count": 10,
   "id": "f4bf414f",
   "metadata": {},
   "outputs": [
    {
     "data": {
      "text/plain": [
       "array([ 0.12403473,  0.86824314,  1.11631261,  2.48069469, -0.62017367,\n",
       "       -0.49613894, -0.3721042 , -0.3721042 , -0.3721042 , -1.11631261,\n",
       "        0.        , -1.24034735])"
      ]
     },
     "execution_count": 10,
     "metadata": {},
     "output_type": "execute_result"
    }
   ],
   "source": [
    "#I'm testing the formula that I wrote, and it does indeed work.\n",
    "\n",
    "z(a)"
   ]
  },
  {
   "cell_type": "code",
   "execution_count": 11,
   "id": "d703543b",
   "metadata": {},
   "outputs": [
    {
     "data": {
      "text/plain": [
       "array([ 0.12403473,  0.86824314,  1.11631261,  2.48069469, -0.62017367,\n",
       "       -0.49613894, -0.3721042 , -0.3721042 , -0.3721042 , -1.11631261,\n",
       "        0.        , -1.24034735])"
      ]
     },
     "execution_count": 11,
     "metadata": {},
     "output_type": "execute_result"
    }
   ],
   "source": [
    "z_score = (a - a.mean())/a.std()\n",
    "\n",
    "z_score"
   ]
  },
  {
   "cell_type": "markdown",
   "id": "b06ca55a",
   "metadata": {},
   "source": [
    "### 8. Copy the setup and exercise directions from [More Numpy Practice](https://gist.github.com/ryanorsinger/c4cf5a64ec33c014ff2e56951bc8a42d) into your `numpy_exercises.py` and add your solutions."
   ]
  },
  {
   "cell_type": "markdown",
   "id": "8f3ad10b",
   "metadata": {},
   "source": [
    "# Use python's built in functionality/operators to determine the following:"
   ]
  },
  {
   "cell_type": "markdown",
   "id": "d73aef08",
   "metadata": {},
   "source": [
    "## Setup:"
   ]
  },
  {
   "cell_type": "code",
   "execution_count": 13,
   "id": "f06a5854",
   "metadata": {},
   "outputs": [],
   "source": [
    "a = [1, 2, 3, 4, 5, 6, 7, 8, 9, 10]"
   ]
  },
  {
   "cell_type": "markdown",
   "id": "ce8fe8db",
   "metadata": {},
   "source": [
    "###  Exercise 1 - Make a variable called sum_of_a to hold the sum of all the numbers in above list"
   ]
  },
  {
   "cell_type": "code",
   "execution_count": 14,
   "id": "397cdf0b",
   "metadata": {},
   "outputs": [
    {
     "data": {
      "text/plain": [
       "55"
      ]
     },
     "execution_count": 14,
     "metadata": {},
     "output_type": "execute_result"
    }
   ],
   "source": [
    "sum_of_a = 0\n",
    "\n",
    "for i in a:\n",
    "    sum_of_a += i\n",
    "    \n",
    "sum_of_a"
   ]
  },
  {
   "cell_type": "markdown",
   "id": "0ea0e3b4",
   "metadata": {},
   "source": [
    "### Exercise 2 - Make a variable named min_of_a to hold the minimum of all the numbers in the above list"
   ]
  },
  {
   "cell_type": "code",
   "execution_count": 15,
   "id": "9b90ebd3",
   "metadata": {},
   "outputs": [
    {
     "data": {
      "text/plain": [
       "1"
      ]
     },
     "execution_count": 15,
     "metadata": {},
     "output_type": "execute_result"
    }
   ],
   "source": [
    "min_of_a = min(a)\n",
    "\n",
    "min_of_a"
   ]
  },
  {
   "cell_type": "markdown",
   "id": "24d0475e",
   "metadata": {},
   "source": [
    "### Exercise 3 - Make a variable named max_of_a to hold the max number of all the numbers in the above list"
   ]
  },
  {
   "cell_type": "code",
   "execution_count": 16,
   "id": "fd4a5207",
   "metadata": {},
   "outputs": [
    {
     "data": {
      "text/plain": [
       "10"
      ]
     },
     "execution_count": 16,
     "metadata": {},
     "output_type": "execute_result"
    }
   ],
   "source": [
    "max_of_a = max(a)\n",
    "\n",
    "max_of_a"
   ]
  },
  {
   "cell_type": "markdown",
   "id": "0e03a39d",
   "metadata": {},
   "source": [
    "### Exercise 4 - Make a variable named mean_of_a to hold the average of all the numbers in the above list"
   ]
  },
  {
   "cell_type": "code",
   "execution_count": 17,
   "id": "ca09a34d",
   "metadata": {},
   "outputs": [
    {
     "name": "stdout",
     "output_type": "stream",
     "text": [
      "5.5\n"
     ]
    }
   ],
   "source": [
    "mean_of_a = sum(a) / len(a)\n",
    "\n",
    "print(mean_of_a)"
   ]
  },
  {
   "cell_type": "markdown",
   "id": "aa72ff30",
   "metadata": {},
   "source": [
    "### Exercise 5 - Make a variable named product_of_a to hold the product of multiplying all the numbers in the above list together"
   ]
  },
  {
   "cell_type": "code",
   "execution_count": 18,
   "id": "b6ea7232",
   "metadata": {},
   "outputs": [
    {
     "data": {
      "text/plain": [
       "3628800"
      ]
     },
     "execution_count": 18,
     "metadata": {},
     "output_type": "execute_result"
    }
   ],
   "source": [
    "product_of_a = 1\n",
    "\n",
    "for i in a:\n",
    "    product_of_a *= i\n",
    "    \n",
    "product_of_a"
   ]
  },
  {
   "cell_type": "markdown",
   "id": "f33e6341",
   "metadata": {},
   "source": [
    "### Exercise 6 - Make a variable named squares_of_a. It should hold each number in a squared like [1, 4, 9, 16, 25...]"
   ]
  },
  {
   "cell_type": "code",
   "execution_count": 19,
   "id": "3770358b",
   "metadata": {},
   "outputs": [
    {
     "data": {
      "text/plain": [
       "[1, 4, 9, 16, 25, 36, 49, 64, 81, 100]"
      ]
     },
     "execution_count": 19,
     "metadata": {},
     "output_type": "execute_result"
    }
   ],
   "source": [
    "squares_of_a = []\n",
    "\n",
    "for i in a:\n",
    "    squares_of_a.append(i ** 2)\n",
    "    \n",
    "squares_of_a"
   ]
  },
  {
   "cell_type": "markdown",
   "id": "76f41dbb",
   "metadata": {},
   "source": [
    "### Exercise 7 - Make a variable named odds_in_a. It should hold only the odd numbers"
   ]
  },
  {
   "cell_type": "code",
   "execution_count": 20,
   "id": "82cd409a",
   "metadata": {},
   "outputs": [
    {
     "data": {
      "text/plain": [
       "[1, 3, 5, 7, 9]"
      ]
     },
     "execution_count": 20,
     "metadata": {},
     "output_type": "execute_result"
    }
   ],
   "source": [
    "odds_in_a = []\n",
    "\n",
    "for i in a:\n",
    "    if i % 2 != 0:\n",
    "        odds_in_a.append(i)\n",
    "        \n",
    "odds_in_a"
   ]
  },
  {
   "cell_type": "markdown",
   "id": "540e89fb",
   "metadata": {},
   "source": [
    "### Exercise 8 - Make a variable named evens_in_a. It should hold only the evens."
   ]
  },
  {
   "cell_type": "code",
   "execution_count": 21,
   "id": "f6451d27",
   "metadata": {},
   "outputs": [
    {
     "data": {
      "text/plain": [
       "[2, 4, 6, 8, 10]"
      ]
     },
     "execution_count": 21,
     "metadata": {},
     "output_type": "execute_result"
    }
   ],
   "source": [
    "evens_in_a = []\n",
    "\n",
    "for i in a:\n",
    "    if i % 2 == 0:\n",
    "        evens_in_a.append(i)\n",
    "        \n",
    "evens_in_a"
   ]
  },
  {
   "cell_type": "markdown",
   "id": "828ad14d",
   "metadata": {},
   "source": [
    "## Setup 2: Consider what it would take to find the sum, min, max, average, sum, product, and list of squares for this list of two lists."
   ]
  },
  {
   "cell_type": "code",
   "execution_count": 22,
   "id": "a475f367",
   "metadata": {},
   "outputs": [],
   "source": [
    "b = [\n",
    "    [3, 4, 5],\n",
    "    [6, 7, 8]\n",
    "]\n",
    "\n",
    "#The above is a list of lists, so I need to convert it to an array before I can do the exercises. \n",
    "b = np.array(b)"
   ]
  },
  {
   "cell_type": "markdown",
   "id": "f18e07d3",
   "metadata": {},
   "source": [
    "### Exercise 1 - refactor the following to use numpy. Use sum_of_b as the variable. **Hint, you'll first need to make sure that the \"b\" variable is a numpy array**\n"
   ]
  },
  {
   "cell_type": "code",
   "execution_count": 23,
   "id": "9b1daba0",
   "metadata": {},
   "outputs": [],
   "source": [
    "sum_of_b = 0\n",
    "for row in b:\n",
    "    sum_of_b += sum(row)"
   ]
  },
  {
   "cell_type": "code",
   "execution_count": 24,
   "id": "cec73971",
   "metadata": {},
   "outputs": [
    {
     "data": {
      "text/plain": [
       "33"
      ]
     },
     "execution_count": 24,
     "metadata": {},
     "output_type": "execute_result"
    }
   ],
   "source": [
    "b.sum()"
   ]
  },
  {
   "cell_type": "markdown",
   "id": "71442939",
   "metadata": {},
   "source": [
    "### Exercise 2 - refactor the following to use numpy. "
   ]
  },
  {
   "cell_type": "code",
   "execution_count": 25,
   "id": "bf5ef348",
   "metadata": {},
   "outputs": [],
   "source": [
    "min_of_b = min(b[0]) if min(b[0]) <= min(b[1]) else min(b[1])  "
   ]
  },
  {
   "cell_type": "code",
   "execution_count": 26,
   "id": "26af00e4",
   "metadata": {},
   "outputs": [
    {
     "data": {
      "text/plain": [
       "3"
      ]
     },
     "execution_count": 26,
     "metadata": {},
     "output_type": "execute_result"
    }
   ],
   "source": [
    "b.min()"
   ]
  },
  {
   "cell_type": "markdown",
   "id": "7a247644",
   "metadata": {},
   "source": [
    "### Exercise 3 - refactor the following maximum calculation to find the answer with numpy."
   ]
  },
  {
   "cell_type": "code",
   "execution_count": 27,
   "id": "90a56833",
   "metadata": {},
   "outputs": [],
   "source": [
    "max_of_b = max(b[0]) if max(b[0]) >= max(b[1]) else max(b[1])"
   ]
  },
  {
   "cell_type": "code",
   "execution_count": 28,
   "id": "1d0f5366",
   "metadata": {},
   "outputs": [
    {
     "data": {
      "text/plain": [
       "8"
      ]
     },
     "execution_count": 28,
     "metadata": {},
     "output_type": "execute_result"
    }
   ],
   "source": [
    "b.max()"
   ]
  },
  {
   "cell_type": "markdown",
   "id": "f04a9f54",
   "metadata": {},
   "source": [
    "### Exercise 4 - refactor the following using numpy to find the mean of b"
   ]
  },
  {
   "cell_type": "code",
   "execution_count": 29,
   "id": "3c8ccc67",
   "metadata": {},
   "outputs": [],
   "source": [
    "mean_of_b = (sum(b[0]) + sum(b[1])) / (len(b[0]) + len(b[1]))"
   ]
  },
  {
   "cell_type": "code",
   "execution_count": 30,
   "id": "64433c68",
   "metadata": {},
   "outputs": [
    {
     "data": {
      "text/plain": [
       "5.5"
      ]
     },
     "execution_count": 30,
     "metadata": {},
     "output_type": "execute_result"
    }
   ],
   "source": [
    "b.mean()"
   ]
  },
  {
   "cell_type": "markdown",
   "id": "ea7066ab",
   "metadata": {},
   "source": [
    "### Exercise 5 - refactor the following to use numpy for calculating the product of all numbers multiplied together."
   ]
  },
  {
   "cell_type": "code",
   "execution_count": 31,
   "id": "9c08a1a8",
   "metadata": {},
   "outputs": [],
   "source": [
    "product_of_b = 1\n",
    "for row in b:\n",
    "    for number in row:\n",
    "        product_of_b *= number"
   ]
  },
  {
   "cell_type": "code",
   "execution_count": 32,
   "id": "55147f61",
   "metadata": {},
   "outputs": [
    {
     "data": {
      "text/plain": [
       "20160"
      ]
     },
     "execution_count": 32,
     "metadata": {},
     "output_type": "execute_result"
    }
   ],
   "source": [
    "b.prod()"
   ]
  },
  {
   "cell_type": "markdown",
   "id": "89dd051a",
   "metadata": {},
   "source": [
    "### Exercise 6 - refactor the following to use numpy to find the list of squares "
   ]
  },
  {
   "cell_type": "code",
   "execution_count": 33,
   "id": "34a7c8ef",
   "metadata": {},
   "outputs": [],
   "source": [
    "squares_of_b = []\n",
    "for row in b:\n",
    "    for number in row:\n",
    "        squares_of_b.append(number**2)"
   ]
  },
  {
   "cell_type": "code",
   "execution_count": 34,
   "id": "5ff205ce",
   "metadata": {},
   "outputs": [
    {
     "data": {
      "text/plain": [
       "array([[ 9, 16, 25],\n",
       "       [36, 49, 64]])"
      ]
     },
     "execution_count": 34,
     "metadata": {},
     "output_type": "execute_result"
    }
   ],
   "source": [
    "squares_of_b = np.square(b)\n",
    "\n",
    "squares_of_b"
   ]
  },
  {
   "cell_type": "markdown",
   "id": "c7df2a05",
   "metadata": {},
   "source": [
    "### Exercise 7 - refactor using numpy to determine the odds_in_b"
   ]
  },
  {
   "cell_type": "code",
   "execution_count": 35,
   "id": "448bd2b3",
   "metadata": {},
   "outputs": [],
   "source": [
    "odds_in_b = []\n",
    "for row in b:\n",
    "    for number in row:\n",
    "        if(number % 2 != 0):\n",
    "            odds_in_b.append(number)"
   ]
  },
  {
   "cell_type": "code",
   "execution_count": 36,
   "id": "06d19651",
   "metadata": {},
   "outputs": [
    {
     "data": {
      "text/plain": [
       "array([3, 5, 7])"
      ]
     },
     "execution_count": 36,
     "metadata": {},
     "output_type": "execute_result"
    }
   ],
   "source": [
    "odds_in_b = b[b % 2 != 0]\n",
    "\n",
    "odds_in_b"
   ]
  },
  {
   "cell_type": "markdown",
   "id": "b4a3eac6",
   "metadata": {},
   "source": [
    "### Exercise 8 - refactor the following to use numpy to filter only the even numbers"
   ]
  },
  {
   "cell_type": "code",
   "execution_count": 37,
   "id": "7a277a28",
   "metadata": {},
   "outputs": [],
   "source": [
    "evens_in_b = []\n",
    "for row in b:\n",
    "    for number in row:\n",
    "        if(number % 2 == 0):\n",
    "            evens_in_b.append(number)"
   ]
  },
  {
   "cell_type": "code",
   "execution_count": 38,
   "id": "e38e1bbf",
   "metadata": {},
   "outputs": [
    {
     "data": {
      "text/plain": [
       "array([4, 6, 8])"
      ]
     },
     "execution_count": 38,
     "metadata": {},
     "output_type": "execute_result"
    }
   ],
   "source": [
    "evens_in_b = b[b % 2 == 0]\n",
    "\n",
    "evens_in_b"
   ]
  },
  {
   "cell_type": "markdown",
   "id": "45ba06d1",
   "metadata": {},
   "source": [
    "### Exercise 9 - print out the shape of the array b."
   ]
  },
  {
   "cell_type": "code",
   "execution_count": 39,
   "id": "a617b788",
   "metadata": {},
   "outputs": [
    {
     "data": {
      "text/plain": [
       "(2, 3)"
      ]
     },
     "execution_count": 39,
     "metadata": {},
     "output_type": "execute_result"
    }
   ],
   "source": [
    "#This does not require parentheses because this is an attribute rather than a method. \n",
    "\n",
    "b.shape"
   ]
  },
  {
   "cell_type": "markdown",
   "id": "307c2a65",
   "metadata": {},
   "source": [
    "### Exercise 10 - transpose the array b."
   ]
  },
  {
   "cell_type": "code",
   "execution_count": 40,
   "id": "bf829b53",
   "metadata": {},
   "outputs": [
    {
     "data": {
      "text/plain": [
       "array([[3, 6],\n",
       "       [4, 7],\n",
       "       [5, 8]])"
      ]
     },
     "execution_count": 40,
     "metadata": {},
     "output_type": "execute_result"
    }
   ],
   "source": [
    "b.transpose()\n",
    "\n",
    "#OR \n",
    "\n",
    "b.T"
   ]
  },
  {
   "cell_type": "markdown",
   "id": "d8171fbd",
   "metadata": {},
   "source": [
    "### Exercise 11 - reshape the array b to be a single list of 6 numbers. (1 x 6)"
   ]
  },
  {
   "cell_type": "code",
   "execution_count": 41,
   "id": "f77233d4",
   "metadata": {},
   "outputs": [
    {
     "data": {
      "text/plain": [
       "array([3, 4, 5, 6, 7, 8])"
      ]
     },
     "execution_count": 41,
     "metadata": {},
     "output_type": "execute_result"
    }
   ],
   "source": [
    "b.reshape(1, 6)\n",
    "\n",
    "#OR\n",
    "\n",
    "b.flatten()"
   ]
  },
  {
   "cell_type": "markdown",
   "id": "25880c92",
   "metadata": {},
   "source": [
    "## Exercise 12 - reshape the array b to be a list of 6 lists, each containing only 1 number (6 x 1)"
   ]
  },
  {
   "cell_type": "code",
   "execution_count": 42,
   "id": "c6cd696e",
   "metadata": {},
   "outputs": [
    {
     "data": {
      "text/plain": [
       "array([[3],\n",
       "       [4],\n",
       "       [5],\n",
       "       [6],\n",
       "       [7],\n",
       "       [8]])"
      ]
     },
     "execution_count": 42,
     "metadata": {},
     "output_type": "execute_result"
    }
   ],
   "source": [
    "b.reshape(6, 1)"
   ]
  },
  {
   "cell_type": "markdown",
   "id": "792f918b",
   "metadata": {},
   "source": [
    "## Setup 3"
   ]
  },
  {
   "cell_type": "code",
   "execution_count": 43,
   "id": "ac7eb1f0",
   "metadata": {},
   "outputs": [],
   "source": [
    "c = [\n",
    "    [1, 2, 3],\n",
    "    [4, 5, 6],\n",
    "    [7, 8, 9]\n",
    "]\n",
    "\n",
    "c = np.array(c)"
   ]
  },
  {
   "cell_type": "markdown",
   "id": "c1e87810",
   "metadata": {},
   "source": [
    "### HINT, you'll first need to make sure that the \"c\" variable is a numpy array prior to using numpy array methods."
   ]
  },
  {
   "cell_type": "markdown",
   "id": "f91d6b43",
   "metadata": {},
   "source": [
    "### Exercise 1 - Find the min, max, sum, and product of c."
   ]
  },
  {
   "cell_type": "code",
   "execution_count": 44,
   "id": "ed811a5d",
   "metadata": {},
   "outputs": [
    {
     "name": "stdout",
     "output_type": "stream",
     "text": [
      "1\n",
      "9\n",
      "45\n",
      "362880\n"
     ]
    }
   ],
   "source": [
    "print(c.min())\n",
    "print(c.max())\n",
    "print(c.sum())\n",
    "print(c.prod())"
   ]
  },
  {
   "cell_type": "markdown",
   "id": "2853bcd4",
   "metadata": {},
   "source": [
    "### Exercise 2 - Determine the standard deviation of c."
   ]
  },
  {
   "cell_type": "code",
   "execution_count": 45,
   "id": "6db6cd7c",
   "metadata": {},
   "outputs": [
    {
     "data": {
      "text/plain": [
       "2.581988897471611"
      ]
     },
     "execution_count": 45,
     "metadata": {},
     "output_type": "execute_result"
    }
   ],
   "source": [
    "c.std()"
   ]
  },
  {
   "cell_type": "markdown",
   "id": "12a1aa17",
   "metadata": {},
   "source": [
    "### Exercise 3 - Determine the variance of c."
   ]
  },
  {
   "cell_type": "code",
   "execution_count": 46,
   "id": "42a7a6f4",
   "metadata": {},
   "outputs": [
    {
     "data": {
      "text/plain": [
       "6.666666666666667"
      ]
     },
     "execution_count": 46,
     "metadata": {},
     "output_type": "execute_result"
    }
   ],
   "source": [
    "c.var()"
   ]
  },
  {
   "cell_type": "markdown",
   "id": "44f98ace",
   "metadata": {},
   "source": [
    "### Exercise 4 - Print out the shape of the array c"
   ]
  },
  {
   "cell_type": "code",
   "execution_count": 47,
   "id": "bc6fc3be",
   "metadata": {},
   "outputs": [
    {
     "data": {
      "text/plain": [
       "(3, 3)"
      ]
     },
     "execution_count": 47,
     "metadata": {},
     "output_type": "execute_result"
    }
   ],
   "source": [
    "#Again, this one does not require parentheses like the other methods do. \n",
    "c.shape"
   ]
  },
  {
   "cell_type": "markdown",
   "id": "c1f27f6c",
   "metadata": {},
   "source": [
    "### Exercise 5 - Transpose c and print out transposed result."
   ]
  },
  {
   "cell_type": "code",
   "execution_count": 64,
   "id": "fdb5acd5",
   "metadata": {},
   "outputs": [
    {
     "data": {
      "text/plain": [
       "array([[1, 4, 7],\n",
       "       [2, 5, 8],\n",
       "       [3, 6, 9]])"
      ]
     },
     "execution_count": 64,
     "metadata": {},
     "output_type": "execute_result"
    }
   ],
   "source": [
    "c.transpose()\n",
    "\n",
    "#OR I can just use \"T\" as a shorthand for 'transpose'\n",
    "c.T"
   ]
  },
  {
   "cell_type": "markdown",
   "id": "4840cc04",
   "metadata": {},
   "source": [
    "### Exercise 6 - Get the dot product of the array c with c."
   ]
  },
  {
   "cell_type": "code",
   "execution_count": 49,
   "id": "5f758c84",
   "metadata": {},
   "outputs": [
    {
     "data": {
      "text/plain": [
       "array([[ 30,  36,  42],\n",
       "       [ 66,  81,  96],\n",
       "       [102, 126, 150]])"
      ]
     },
     "execution_count": 49,
     "metadata": {},
     "output_type": "execute_result"
    }
   ],
   "source": [
    "c.dot(c)\n",
    "#OR (many of the others can be rewritten like this, too)\n",
    "np.dot(c, c)"
   ]
  },
  {
   "cell_type": "markdown",
   "id": "afe980a3",
   "metadata": {},
   "source": [
    "### Exercise 7 - Write the code necessary to sum up the result of c times c transposed. Answer should be 261"
   ]
  },
  {
   "cell_type": "code",
   "execution_count": 66,
   "id": "eb28b046",
   "metadata": {},
   "outputs": [
    {
     "data": {
      "text/plain": [
       "261"
      ]
     },
     "execution_count": 66,
     "metadata": {},
     "output_type": "execute_result"
    }
   ],
   "source": [
    "(c * c.T).sum()"
   ]
  },
  {
   "cell_type": "markdown",
   "id": "7fb34845",
   "metadata": {},
   "source": [
    "### Exercise 8 - Write the code necessary to determine the product of c times c transposed. Answer should be 131681894400."
   ]
  },
  {
   "cell_type": "code",
   "execution_count": 67,
   "id": "a7ea1ece",
   "metadata": {},
   "outputs": [
    {
     "data": {
      "text/plain": [
       "131681894400"
      ]
     },
     "execution_count": 67,
     "metadata": {},
     "output_type": "execute_result"
    }
   ],
   "source": [
    "(c * c.T).prod()"
   ]
  },
  {
   "cell_type": "markdown",
   "id": "5feaaa97",
   "metadata": {},
   "source": [
    "## Setup 4"
   ]
  },
  {
   "cell_type": "code",
   "execution_count": 68,
   "id": "2aebc095",
   "metadata": {},
   "outputs": [],
   "source": [
    "d = [\n",
    "    [90, 30, 45, 0, 120, 180],\n",
    "    [45, -90, -30, 270, 90, 0],\n",
    "    [60, 45, -45, 90, -45, 180]\n",
    "]\n",
    "\n",
    "d = np.array(d)"
   ]
  },
  {
   "cell_type": "markdown",
   "id": "3573b148",
   "metadata": {},
   "source": [
    "### Exercise 1 - Find the sine of all the numbers in d"
   ]
  },
  {
   "cell_type": "code",
   "execution_count": 53,
   "id": "3de58cf0",
   "metadata": {},
   "outputs": [
    {
     "data": {
      "text/plain": [
       "array([[ 0.89399666, -0.98803162,  0.85090352,  0.        ,  0.58061118,\n",
       "        -0.80115264],\n",
       "       [ 0.85090352, -0.89399666,  0.98803162, -0.17604595,  0.89399666,\n",
       "         0.        ],\n",
       "       [-0.30481062,  0.85090352, -0.85090352,  0.89399666, -0.85090352,\n",
       "        -0.80115264]])"
      ]
     },
     "execution_count": 53,
     "metadata": {},
     "output_type": "execute_result"
    }
   ],
   "source": [
    "np.sin(d)"
   ]
  },
  {
   "cell_type": "markdown",
   "id": "cd62e8ae",
   "metadata": {},
   "source": [
    "### Exercise 2 - Find the cosine of all the numbers in d"
   ]
  },
  {
   "cell_type": "code",
   "execution_count": 54,
   "id": "5ef7e8d5",
   "metadata": {},
   "outputs": [
    {
     "data": {
      "text/plain": [
       "array([[-0.44807362,  0.15425145,  0.52532199,  1.        ,  0.81418097,\n",
       "        -0.59846007],\n",
       "       [ 0.52532199, -0.44807362,  0.15425145,  0.98438195, -0.44807362,\n",
       "         1.        ],\n",
       "       [-0.95241298,  0.52532199,  0.52532199, -0.44807362,  0.52532199,\n",
       "        -0.59846007]])"
      ]
     },
     "execution_count": 54,
     "metadata": {},
     "output_type": "execute_result"
    }
   ],
   "source": [
    "np.cos(d)"
   ]
  },
  {
   "cell_type": "markdown",
   "id": "16970430",
   "metadata": {},
   "source": [
    "### Exercise 3 - Find the tangent of all the numbers in d"
   ]
  },
  {
   "cell_type": "code",
   "execution_count": 55,
   "id": "95d9ede5",
   "metadata": {},
   "outputs": [
    {
     "data": {
      "text/plain": [
       "array([[-1.99520041, -6.4053312 ,  1.61977519,  0.        ,  0.71312301,\n",
       "         1.33869021],\n",
       "       [ 1.61977519,  1.99520041,  6.4053312 , -0.17883906, -1.99520041,\n",
       "         0.        ],\n",
       "       [ 0.32004039,  1.61977519, -1.61977519, -1.99520041, -1.61977519,\n",
       "         1.33869021]])"
      ]
     },
     "execution_count": 55,
     "metadata": {},
     "output_type": "execute_result"
    }
   ],
   "source": [
    "np.tan(d)"
   ]
  },
  {
   "cell_type": "markdown",
   "id": "9e095598",
   "metadata": {},
   "source": [
    "### Exercise 4 - Find all the negative numbers in d"
   ]
  },
  {
   "cell_type": "code",
   "execution_count": 56,
   "id": "8bc38121",
   "metadata": {},
   "outputs": [
    {
     "data": {
      "text/plain": [
       "array([-90, -30, -45, -45])"
      ]
     },
     "execution_count": 56,
     "metadata": {},
     "output_type": "execute_result"
    }
   ],
   "source": [
    "d[d < 0]"
   ]
  },
  {
   "cell_type": "markdown",
   "id": "3dcefc45",
   "metadata": {},
   "source": [
    "### Exercise 5 - Find all the positive numbers in d"
   ]
  },
  {
   "cell_type": "code",
   "execution_count": 57,
   "id": "fc2940d7",
   "metadata": {},
   "outputs": [
    {
     "data": {
      "text/plain": [
       "array([ 90,  30,  45, 120, 180,  45, 270,  90,  60,  45,  90, 180])"
      ]
     },
     "execution_count": 57,
     "metadata": {},
     "output_type": "execute_result"
    }
   ],
   "source": [
    "d[d > 0]"
   ]
  },
  {
   "cell_type": "markdown",
   "id": "39e6dd1f",
   "metadata": {},
   "source": [
    "### Exercise 6 - Return an array of only the unique numbers in d."
   ]
  },
  {
   "cell_type": "code",
   "execution_count": 59,
   "id": "577d4d2b",
   "metadata": {},
   "outputs": [
    {
     "data": {
      "text/plain": [
       "array([-90, -45, -30,   0,  30,  45,  60,  90, 120, 180, 270])"
      ]
     },
     "execution_count": 59,
     "metadata": {},
     "output_type": "execute_result"
    }
   ],
   "source": [
    "np.unique(d)"
   ]
  },
  {
   "cell_type": "markdown",
   "id": "bc0f03da",
   "metadata": {},
   "source": [
    "### Exercise 7 - Determine how many unique numbers there are in d."
   ]
  },
  {
   "cell_type": "code",
   "execution_count": 60,
   "id": "48cb8d5d",
   "metadata": {},
   "outputs": [
    {
     "data": {
      "text/plain": [
       "11"
      ]
     },
     "execution_count": 60,
     "metadata": {},
     "output_type": "execute_result"
    }
   ],
   "source": [
    "#Just like in regular python, we can chain methods (although it is worth noting that 'size' is not technically a method)\n",
    "np.unique(d).size"
   ]
  },
  {
   "cell_type": "markdown",
   "id": "758ff90e",
   "metadata": {},
   "source": [
    "### Exercise 8 - Print out the shape of d."
   ]
  },
  {
   "cell_type": "code",
   "execution_count": null,
   "id": "c191604b",
   "metadata": {},
   "outputs": [],
   "source": [
    "d.shape"
   ]
  },
  {
   "cell_type": "markdown",
   "id": "7de1201f",
   "metadata": {},
   "source": [
    "### Exercise 9 - Transpose and then print out the shape of d."
   ]
  },
  {
   "cell_type": "code",
   "execution_count": null,
   "id": "2d707b46",
   "metadata": {},
   "outputs": [],
   "source": [
    "d.T.shape"
   ]
  },
  {
   "cell_type": "markdown",
   "id": "647313b7",
   "metadata": {},
   "source": [
    "### Exercise 10 - Reshape d into an array of 9 x 2"
   ]
  },
  {
   "cell_type": "code",
   "execution_count": null,
   "id": "084f0962",
   "metadata": {},
   "outputs": [],
   "source": [
    "d.reshape(9,2)"
   ]
  },
  {
   "cell_type": "markdown",
   "id": "205490d2",
   "metadata": {},
   "source": [
    "**Awesome Bonus** For much more practice with numpy, Go to https://github.com/rougier/numpy-100 and clone the repo down to your laptop. To clone a repository: - Copy the SSH address of the repository - cd ~/codeup-data-science - Then type `git clone git@github.com:rougier/numpy-100.git` - Now do `cd numpy-100` on your terminal. - Type `git remote remove origin`, so you won't accidentally try to push your work to Rougier's repo.\n",
    "\n",
    "Congratulations! You have cloned Rougier's 100 numpy exercises to your computer. Now you need to make a new, blank, repository on GitHub.\n",
    "\n",
    "Go to https://github.com/new to make a new repo. Name it numpy-100.\n",
    "DO NOT check any check boxes. We need a blank, empty repo.\n",
    "Finally, follow the directions to \"push an existing repository from the command line\" so that you can push up your changes to your own account.\n",
    "\n",
    "Now do work, add it, commit it, and push it!"
   ]
  },
  {
   "cell_type": "code",
   "execution_count": null,
   "id": "5aaa040f",
   "metadata": {},
   "outputs": [],
   "source": []
  }
 ],
 "metadata": {
  "kernelspec": {
   "display_name": "Python 3 (ipykernel)",
   "language": "python",
   "name": "python3"
  },
  "language_info": {
   "codemirror_mode": {
    "name": "ipython",
    "version": 3
   },
   "file_extension": ".py",
   "mimetype": "text/x-python",
   "name": "python",
   "nbconvert_exporter": "python",
   "pygments_lexer": "ipython3",
   "version": "3.9.7"
  }
 },
 "nbformat": 4,
 "nbformat_minor": 5
}
