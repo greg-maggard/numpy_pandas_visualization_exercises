{
 "cells": [
  {
   "cell_type": "code",
   "execution_count": 1,
   "id": "8030258b",
   "metadata": {},
   "outputs": [
    {
     "name": "stdout",
     "output_type": "stream",
     "text": [
      "initiated datasets repo at: /Users/gregmaggard/.pydataset/\n"
     ]
    }
   ],
   "source": [
    "from pydataset import data"
   ]
  },
  {
   "cell_type": "markdown",
   "id": "f2276e22",
   "metadata": {},
   "source": [
    "# 1. Copy the code from the lesson to create a dataframe full of student grades."
   ]
  },
  {
   "cell_type": "code",
   "execution_count": 5,
   "id": "0467c065",
   "metadata": {},
   "outputs": [
    {
     "data": {
      "text/html": [
       "<div>\n",
       "<style scoped>\n",
       "    .dataframe tbody tr th:only-of-type {\n",
       "        vertical-align: middle;\n",
       "    }\n",
       "\n",
       "    .dataframe tbody tr th {\n",
       "        vertical-align: top;\n",
       "    }\n",
       "\n",
       "    .dataframe thead th {\n",
       "        text-align: right;\n",
       "    }\n",
       "</style>\n",
       "<table border=\"1\" class=\"dataframe\">\n",
       "  <thead>\n",
       "    <tr style=\"text-align: right;\">\n",
       "      <th></th>\n",
       "      <th>name</th>\n",
       "      <th>math</th>\n",
       "      <th>english</th>\n",
       "      <th>reading</th>\n",
       "    </tr>\n",
       "  </thead>\n",
       "  <tbody>\n",
       "    <tr>\n",
       "      <th>0</th>\n",
       "      <td>Sally</td>\n",
       "      <td>62</td>\n",
       "      <td>85</td>\n",
       "      <td>80</td>\n",
       "    </tr>\n",
       "    <tr>\n",
       "      <th>1</th>\n",
       "      <td>Jane</td>\n",
       "      <td>88</td>\n",
       "      <td>79</td>\n",
       "      <td>67</td>\n",
       "    </tr>\n",
       "    <tr>\n",
       "      <th>2</th>\n",
       "      <td>Suzie</td>\n",
       "      <td>94</td>\n",
       "      <td>74</td>\n",
       "      <td>95</td>\n",
       "    </tr>\n",
       "    <tr>\n",
       "      <th>3</th>\n",
       "      <td>Billy</td>\n",
       "      <td>98</td>\n",
       "      <td>96</td>\n",
       "      <td>88</td>\n",
       "    </tr>\n",
       "    <tr>\n",
       "      <th>4</th>\n",
       "      <td>Ada</td>\n",
       "      <td>77</td>\n",
       "      <td>92</td>\n",
       "      <td>98</td>\n",
       "    </tr>\n",
       "    <tr>\n",
       "      <th>5</th>\n",
       "      <td>John</td>\n",
       "      <td>79</td>\n",
       "      <td>76</td>\n",
       "      <td>93</td>\n",
       "    </tr>\n",
       "    <tr>\n",
       "      <th>6</th>\n",
       "      <td>Thomas</td>\n",
       "      <td>82</td>\n",
       "      <td>64</td>\n",
       "      <td>81</td>\n",
       "    </tr>\n",
       "    <tr>\n",
       "      <th>7</th>\n",
       "      <td>Marie</td>\n",
       "      <td>93</td>\n",
       "      <td>63</td>\n",
       "      <td>90</td>\n",
       "    </tr>\n",
       "    <tr>\n",
       "      <th>8</th>\n",
       "      <td>Albert</td>\n",
       "      <td>92</td>\n",
       "      <td>62</td>\n",
       "      <td>87</td>\n",
       "    </tr>\n",
       "    <tr>\n",
       "      <th>9</th>\n",
       "      <td>Richard</td>\n",
       "      <td>69</td>\n",
       "      <td>80</td>\n",
       "      <td>94</td>\n",
       "    </tr>\n",
       "    <tr>\n",
       "      <th>10</th>\n",
       "      <td>Isaac</td>\n",
       "      <td>92</td>\n",
       "      <td>99</td>\n",
       "      <td>93</td>\n",
       "    </tr>\n",
       "    <tr>\n",
       "      <th>11</th>\n",
       "      <td>Alan</td>\n",
       "      <td>92</td>\n",
       "      <td>62</td>\n",
       "      <td>72</td>\n",
       "    </tr>\n",
       "  </tbody>\n",
       "</table>\n",
       "</div>"
      ],
      "text/plain": [
       "       name  math  english  reading\n",
       "0     Sally    62       85       80\n",
       "1      Jane    88       79       67\n",
       "2     Suzie    94       74       95\n",
       "3     Billy    98       96       88\n",
       "4       Ada    77       92       98\n",
       "5      John    79       76       93\n",
       "6    Thomas    82       64       81\n",
       "7     Marie    93       63       90\n",
       "8    Albert    92       62       87\n",
       "9   Richard    69       80       94\n",
       "10    Isaac    92       99       93\n",
       "11     Alan    92       62       72"
      ]
     },
     "execution_count": 5,
     "metadata": {},
     "output_type": "execute_result"
    }
   ],
   "source": [
    "import pandas as pd\n",
    "import numpy as np\n",
    "\n",
    "np.random.seed(123)\n",
    "\n",
    "students = ['Sally', 'Jane', 'Suzie', 'Billy', 'Ada', 'John', 'Thomas',\n",
    "            'Marie', 'Albert', 'Richard', 'Isaac', 'Alan']\n",
    "\n",
    "# randomly generate scores for each student for each subject\n",
    "# note that all the values need to have the same length here\n",
    "math_grades = np.random.randint(low=60, high=100, size=len(students))\n",
    "english_grades = np.random.randint(low=60, high=100, size=len(students))\n",
    "reading_grades = np.random.randint(low=60, high=100, size=len(students))\n",
    "\n",
    "df = pd.DataFrame({'name': students,\n",
    "                   'math': math_grades,\n",
    "                   'english': english_grades,\n",
    "                   'reading': reading_grades})\n",
    "\n",
    "df"
   ]
  },
  {
   "cell_type": "markdown",
   "id": "e18da750",
   "metadata": {},
   "source": [
    "### a. Create a column named passing_english that indicates whether each student has a passing grade in english."
   ]
  },
  {
   "cell_type": "code",
   "execution_count": null,
   "id": "d924b3a8",
   "metadata": {},
   "outputs": [],
   "source": []
  },
  {
   "cell_type": "markdown",
   "id": "6de44134",
   "metadata": {},
   "source": [
    "### b. Sort the english grades by the passing_english column. How are duplicates handled?"
   ]
  },
  {
   "cell_type": "code",
   "execution_count": null,
   "id": "31253926",
   "metadata": {},
   "outputs": [],
   "source": []
  },
  {
   "cell_type": "markdown",
   "id": "8d0dcceb",
   "metadata": {},
   "source": [
    "### c. Sort the english grades first by passing_english and then by student name. All the students that are failing english should be first, and within the students that are failing english they should be ordered alphabetically. The same should be true for the students passing english. (Hint: you can pass a list to the .sort_values method)"
   ]
  },
  {
   "cell_type": "code",
   "execution_count": null,
   "id": "75077989",
   "metadata": {},
   "outputs": [],
   "source": []
  },
  {
   "cell_type": "markdown",
   "id": "d826742f",
   "metadata": {},
   "source": [
    "### d. Sort the english grades first by passing_english, and then by the actual english grade, similar to how we did in the last step."
   ]
  },
  {
   "cell_type": "code",
   "execution_count": null,
   "id": "456ee963",
   "metadata": {},
   "outputs": [],
   "source": []
  },
  {
   "cell_type": "markdown",
   "id": "80ab9391",
   "metadata": {},
   "source": [
    "### e. Calculate each students overall grade and add it as a column on the dataframe. The overall grade is the average of the math, english, and reading grades."
   ]
  },
  {
   "cell_type": "code",
   "execution_count": null,
   "id": "9b978086",
   "metadata": {},
   "outputs": [],
   "source": []
  },
  {
   "cell_type": "markdown",
   "id": "628dace4",
   "metadata": {},
   "source": [
    "# 2. Load the mpg dataset. Read the documentation for the dataset and use it for the following questions:"
   ]
  },
  {
   "cell_type": "code",
   "execution_count": null,
   "id": "00d97356",
   "metadata": {},
   "outputs": [],
   "source": []
  },
  {
   "cell_type": "markdown",
   "id": "6e034623",
   "metadata": {},
   "source": [
    "### a. How many rows and columns are there?"
   ]
  },
  {
   "cell_type": "code",
   "execution_count": null,
   "id": "dcfc9c32",
   "metadata": {},
   "outputs": [],
   "source": []
  },
  {
   "cell_type": "markdown",
   "id": "ea446a6a",
   "metadata": {},
   "source": [
    "### b. What are the data types of each column?"
   ]
  },
  {
   "cell_type": "code",
   "execution_count": null,
   "id": "c8773db8",
   "metadata": {},
   "outputs": [],
   "source": []
  },
  {
   "cell_type": "markdown",
   "id": "742effb6",
   "metadata": {},
   "source": [
    "### c. Summarize the dataframe with .info and .describe"
   ]
  },
  {
   "cell_type": "code",
   "execution_count": null,
   "id": "05c80199",
   "metadata": {},
   "outputs": [],
   "source": []
  },
  {
   "cell_type": "markdown",
   "id": "1b826ecb",
   "metadata": {},
   "source": [
    "### d. Rename the cty column to city."
   ]
  },
  {
   "cell_type": "code",
   "execution_count": null,
   "id": "911c4794",
   "metadata": {},
   "outputs": [],
   "source": []
  },
  {
   "cell_type": "markdown",
   "id": "12b4f8c7",
   "metadata": {},
   "source": [
    "### e. Rename the hwy column to highway."
   ]
  },
  {
   "cell_type": "code",
   "execution_count": null,
   "id": "e030751f",
   "metadata": {},
   "outputs": [],
   "source": []
  },
  {
   "cell_type": "markdown",
   "id": "560c76dd",
   "metadata": {},
   "source": [
    "### f. Do any cars have better city mileage than highway mileage?"
   ]
  },
  {
   "cell_type": "code",
   "execution_count": null,
   "id": "a39b7291",
   "metadata": {},
   "outputs": [],
   "source": []
  },
  {
   "cell_type": "markdown",
   "id": "52009107",
   "metadata": {},
   "source": [
    "### g. Create a column named mileage_difference this column should contain the difference between highway and city mileage for each car."
   ]
  },
  {
   "cell_type": "code",
   "execution_count": null,
   "id": "c13919b5",
   "metadata": {},
   "outputs": [],
   "source": []
  },
  {
   "cell_type": "markdown",
   "id": "1e370f11",
   "metadata": {},
   "source": [
    "### h. Which car (or cars) has the highest mileage difference?"
   ]
  },
  {
   "cell_type": "code",
   "execution_count": null,
   "id": "0ecc5819",
   "metadata": {},
   "outputs": [],
   "source": []
  },
  {
   "cell_type": "markdown",
   "id": "3cb6d4dc",
   "metadata": {},
   "source": [
    "### i. Which compact class car has the lowest highway mileage? The best?"
   ]
  },
  {
   "cell_type": "code",
   "execution_count": null,
   "id": "4e49296b",
   "metadata": {},
   "outputs": [],
   "source": []
  },
  {
   "cell_type": "markdown",
   "id": "d282e4e6",
   "metadata": {},
   "source": [
    "### j. Create a column named average_mileage that is the mean of the city and highway mileage."
   ]
  },
  {
   "cell_type": "code",
   "execution_count": null,
   "id": "47c5c350",
   "metadata": {},
   "outputs": [],
   "source": []
  },
  {
   "cell_type": "markdown",
   "id": "312ac111",
   "metadata": {},
   "source": [
    "### k. Which dodge car has the best average mileage? The worst?"
   ]
  },
  {
   "cell_type": "code",
   "execution_count": null,
   "id": "c590d67d",
   "metadata": {},
   "outputs": [],
   "source": []
  },
  {
   "cell_type": "markdown",
   "id": "3a9f4dd4",
   "metadata": {},
   "source": [
    "# 3. Load the Mammals dataset. Read the documentation for it, and use the data to answer these questions:"
   ]
  },
  {
   "cell_type": "code",
   "execution_count": null,
   "id": "e2298239",
   "metadata": {},
   "outputs": [],
   "source": []
  },
  {
   "cell_type": "markdown",
   "id": "ac4a76a8",
   "metadata": {},
   "source": [
    "### a. How many rows and columns are there?"
   ]
  },
  {
   "cell_type": "code",
   "execution_count": null,
   "id": "a4f46c46",
   "metadata": {},
   "outputs": [],
   "source": []
  },
  {
   "cell_type": "markdown",
   "id": "c33fe517",
   "metadata": {},
   "source": [
    "### b. What are the data types?"
   ]
  },
  {
   "cell_type": "code",
   "execution_count": null,
   "id": "810c0c6b",
   "metadata": {},
   "outputs": [],
   "source": []
  },
  {
   "cell_type": "markdown",
   "id": "f160afba",
   "metadata": {},
   "source": [
    "### c. Summarize the dataframe with .info and .describe"
   ]
  },
  {
   "cell_type": "code",
   "execution_count": null,
   "id": "18f9e205",
   "metadata": {},
   "outputs": [],
   "source": []
  },
  {
   "cell_type": "markdown",
   "id": "815dc043",
   "metadata": {},
   "source": [
    "### d. What is the the weight of the fastest animal?"
   ]
  },
  {
   "cell_type": "code",
   "execution_count": null,
   "id": "97a81b43",
   "metadata": {},
   "outputs": [],
   "source": []
  },
  {
   "cell_type": "markdown",
   "id": "857ac228",
   "metadata": {},
   "source": [
    "### e. What is the overal percentage of specials?"
   ]
  },
  {
   "cell_type": "code",
   "execution_count": null,
   "id": "9a5c30d1",
   "metadata": {},
   "outputs": [],
   "source": []
  },
  {
   "cell_type": "markdown",
   "id": "4cf6f491",
   "metadata": {},
   "source": [
    "### f. How many animals are hoppers that are above the median speed? What percentage is this?"
   ]
  },
  {
   "cell_type": "code",
   "execution_count": null,
   "id": "7d69937f",
   "metadata": {},
   "outputs": [],
   "source": []
  }
 ],
 "metadata": {
  "kernelspec": {
   "display_name": "Python 3 (ipykernel)",
   "language": "python",
   "name": "python3"
  },
  "language_info": {
   "codemirror_mode": {
    "name": "ipython",
    "version": 3
   },
   "file_extension": ".py",
   "mimetype": "text/x-python",
   "name": "python",
   "nbconvert_exporter": "python",
   "pygments_lexer": "ipython3",
   "version": "3.9.7"
  }
 },
 "nbformat": 4,
 "nbformat_minor": 5
}
